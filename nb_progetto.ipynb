{
 "cells": [
  {
   "cell_type": "code",
   "execution_count": 1,
   "id": "dec6d26c",
   "metadata": {},
   "outputs": [],
   "source": [
    "import warnings\n",
    "warnings.filterwarnings(\"ignore\")\n",
    "\n",
    "# import custom modules\n",
    "from custom_libs import db\n",
    "from custom_libs import preprocessing\n",
    "from custom_libs import classification\n",
    "from custom_libs import plotting\n",
    "from custom_libs import utils\n",
    "from custom_libs import dump\n",
    "from custom_libs import db"
   ]
  },
  {
   "cell_type": "code",
   "execution_count": 2,
   "id": "6f278b25",
   "metadata": {},
   "outputs": [],
   "source": [
    "text_column_name = 'review'\n",
    "cleaned_text_column_name = 'review_cleaned'"
   ]
  },
  {
   "cell_type": "code",
   "execution_count": 3,
   "id": "68284b58",
   "metadata": {},
   "outputs": [
    {
     "name": "stdout",
     "output_type": "stream",
     "text": [
      "Number of unique ids:  39\n"
     ]
    },
    {
     "data": {
      "text/html": [
       "<div>\n",
       "<style scoped>\n",
       "    .dataframe tbody tr th:only-of-type {\n",
       "        vertical-align: middle;\n",
       "    }\n",
       "\n",
       "    .dataframe tbody tr th {\n",
       "        vertical-align: top;\n",
       "    }\n",
       "\n",
       "    .dataframe thead th {\n",
       "        text-align: right;\n",
       "    }\n",
       "</style>\n",
       "<table border=\"1\" class=\"dataframe\">\n",
       "  <thead>\n",
       "    <tr style=\"text-align: right;\">\n",
       "      <th></th>\n",
       "      <th>reviewer_id</th>\n",
       "      <th>store_name</th>\n",
       "      <th>category</th>\n",
       "      <th>store_address</th>\n",
       "      <th>latitude</th>\n",
       "      <th>longitude</th>\n",
       "      <th>rating_count</th>\n",
       "      <th>review_time</th>\n",
       "      <th>review</th>\n",
       "      <th>rating</th>\n",
       "      <th>rating_number</th>\n",
       "      <th>id</th>\n",
       "      <th>review_cleaned</th>\n",
       "    </tr>\n",
       "  </thead>\n",
       "  <tbody>\n",
       "    <tr>\n",
       "      <th>0</th>\n",
       "      <td>1</td>\n",
       "      <td>McDonald's</td>\n",
       "      <td>Fast food restaurant</td>\n",
       "      <td>13749 US-183 Hwy, Austin, TX 78750, United States</td>\n",
       "      <td>30.460718</td>\n",
       "      <td>-97.792874</td>\n",
       "      <td>1,240</td>\n",
       "      <td>3 months ago</td>\n",
       "      <td>Why does it look like someone spit on my food?...</td>\n",
       "      <td>1 star</td>\n",
       "      <td>1</td>\n",
       "      <td>9.0</td>\n",
       "      <td>look like someone spit food normal transaction...</td>\n",
       "    </tr>\n",
       "    <tr>\n",
       "      <th>1</th>\n",
       "      <td>2</td>\n",
       "      <td>McDonald's</td>\n",
       "      <td>Fast food restaurant</td>\n",
       "      <td>13749 US-183 Hwy, Austin, TX 78750, United States</td>\n",
       "      <td>30.460718</td>\n",
       "      <td>-97.792874</td>\n",
       "      <td>1,240</td>\n",
       "      <td>5 days ago</td>\n",
       "      <td>It'd McDonalds. It is what it is as far as the...</td>\n",
       "      <td>4 stars</td>\n",
       "      <td>4</td>\n",
       "      <td>9.0</td>\n",
       "      <td>far food atmosphere go staff make difference f...</td>\n",
       "    </tr>\n",
       "  </tbody>\n",
       "</table>\n",
       "</div>"
      ],
      "text/plain": [
       "   reviewer_id  store_name              category  \\\n",
       "0            1  McDonald's  Fast food restaurant   \n",
       "1            2  McDonald's  Fast food restaurant   \n",
       "\n",
       "                                       store_address   latitude  longitude  \\\n",
       "0  13749 US-183 Hwy, Austin, TX 78750, United States  30.460718 -97.792874   \n",
       "1  13749 US-183 Hwy, Austin, TX 78750, United States  30.460718 -97.792874   \n",
       "\n",
       "  rating_count   review_time  \\\n",
       "0        1,240  3 months ago   \n",
       "1        1,240    5 days ago   \n",
       "\n",
       "                                              review   rating  rating_number  \\\n",
       "0  Why does it look like someone spit on my food?...   1 star              1   \n",
       "1  It'd McDonalds. It is what it is as far as the...  4 stars              4   \n",
       "\n",
       "    id                                     review_cleaned  \n",
       "0  9.0  look like someone spit food normal transaction...  \n",
       "1  9.0  far food atmosphere go staff make difference f...  "
      ]
     },
     "execution_count": 3,
     "metadata": {},
     "output_type": "execute_result"
    }
   ],
   "source": [
    "df = db.get_dataset(\"McDonald_s_Reviews\")\n",
    "preprocessing.add_id_column(df, columns=[\"latitude\", \"longitude\"])\n",
    "preprocessing.add_rating_number_column(df)\n",
    "proprocessing_function = preprocessing.preprocess_text\n",
    "preprocessing.preprocess_dataframe(df, text_column_name, cleaned_text_column_name, proprocessing_function)\n",
    "df.head(2)"
   ]
  },
  {
   "cell_type": "code",
   "execution_count": 4,
   "id": "ee906ed7",
   "metadata": {},
   "outputs": [],
   "source": [
    "sentiment_our_column_name = 'sentiment_our'\n",
    "sentiment_auto_column_name = 'sentiment_auto'"
   ]
  },
  {
   "cell_type": "code",
   "execution_count": 5,
   "id": "fbff9266",
   "metadata": {},
   "outputs": [
    {
     "name": "stdout",
     "output_type": "stream",
     "text": [
      "Loading model from: dump_models/model_chat.pkl\n",
      "Loading model from: dump_models/vectorizer_chat.pkl\n"
     ]
    },
    {
     "data": {
      "text/html": [
       "<div>\n",
       "<style scoped>\n",
       "    .dataframe tbody tr th:only-of-type {\n",
       "        vertical-align: middle;\n",
       "    }\n",
       "\n",
       "    .dataframe tbody tr th {\n",
       "        vertical-align: top;\n",
       "    }\n",
       "\n",
       "    .dataframe thead th {\n",
       "        text-align: right;\n",
       "    }\n",
       "</style>\n",
       "<table border=\"1\" class=\"dataframe\">\n",
       "  <thead>\n",
       "    <tr style=\"text-align: right;\">\n",
       "      <th></th>\n",
       "      <th>review_cleaned</th>\n",
       "      <th>sentiment_auto</th>\n",
       "      <th>sentiment_our</th>\n",
       "    </tr>\n",
       "  </thead>\n",
       "  <tbody>\n",
       "    <tr>\n",
       "      <th>0</th>\n",
       "      <td>look like someone spit food normal transaction...</td>\n",
       "      <td>Positive</td>\n",
       "      <td>Neutral</td>\n",
       "    </tr>\n",
       "    <tr>\n",
       "      <th>1</th>\n",
       "      <td>far food atmosphere go staff make difference f...</td>\n",
       "      <td>Positive</td>\n",
       "      <td>Positive</td>\n",
       "    </tr>\n",
       "    <tr>\n",
       "      <th>2</th>\n",
       "      <td>make mobile order get speaker checked line mov...</td>\n",
       "      <td>Negative</td>\n",
       "      <td>Negative</td>\n",
       "    </tr>\n",
       "    <tr>\n",
       "      <th>3</th>\n",
       "      <td>mc crispy chicken sandwich customer service qu...</td>\n",
       "      <td>Neutral</td>\n",
       "      <td>Positive</td>\n",
       "    </tr>\n",
       "    <tr>\n",
       "      <th>4</th>\n",
       "      <td>repeat order time drive thru still manage mess...</td>\n",
       "      <td>Negative</td>\n",
       "      <td>Neutral</td>\n",
       "    </tr>\n",
       "    <tr>\n",
       "      <th>...</th>\n",
       "      <td>...</td>\n",
       "      <td>...</td>\n",
       "      <td>...</td>\n",
       "    </tr>\n",
       "    <tr>\n",
       "      <th>33391</th>\n",
       "      <td>treat badly</td>\n",
       "      <td>Negative</td>\n",
       "      <td>Neutral</td>\n",
       "    </tr>\n",
       "    <tr>\n",
       "      <th>33392</th>\n",
       "      <td>service good</td>\n",
       "      <td>Positive</td>\n",
       "      <td>Neutral</td>\n",
       "    </tr>\n",
       "    <tr>\n",
       "      <th>33393</th>\n",
       "      <td>remove hunger enough</td>\n",
       "      <td>Negative</td>\n",
       "      <td>Neutral</td>\n",
       "    </tr>\n",
       "    <tr>\n",
       "      <th>33394</th>\n",
       "      <td>good lately become expensive</td>\n",
       "      <td>Positive</td>\n",
       "      <td>Neutral</td>\n",
       "    </tr>\n",
       "    <tr>\n",
       "      <th>33395</th>\n",
       "      <td>take good care</td>\n",
       "      <td>Positive</td>\n",
       "      <td>Neutral</td>\n",
       "    </tr>\n",
       "  </tbody>\n",
       "</table>\n",
       "<p>33396 rows × 3 columns</p>\n",
       "</div>"
      ],
      "text/plain": [
       "                                          review_cleaned sentiment_auto  \\\n",
       "0      look like someone spit food normal transaction...       Positive   \n",
       "1      far food atmosphere go staff make difference f...       Positive   \n",
       "2      make mobile order get speaker checked line mov...       Negative   \n",
       "3      mc crispy chicken sandwich customer service qu...        Neutral   \n",
       "4      repeat order time drive thru still manage mess...       Negative   \n",
       "...                                                  ...            ...   \n",
       "33391                                        treat badly       Negative   \n",
       "33392                                       service good       Positive   \n",
       "33393                               remove hunger enough       Negative   \n",
       "33394                       good lately become expensive       Positive   \n",
       "33395                                     take good care       Positive   \n",
       "\n",
       "      sentiment_our  \n",
       "0           Neutral  \n",
       "1          Positive  \n",
       "2          Negative  \n",
       "3          Positive  \n",
       "4           Neutral  \n",
       "...             ...  \n",
       "33391       Neutral  \n",
       "33392       Neutral  \n",
       "33393       Neutral  \n",
       "33394       Neutral  \n",
       "33395       Neutral  \n",
       "\n",
       "[33396 rows x 3 columns]"
      ]
     },
     "execution_count": 5,
     "metadata": {},
     "output_type": "execute_result"
    }
   ],
   "source": [
    "# Our model\n",
    "model = dump.load_model(\"model_chat\")\n",
    "vectorizer = dump.load_model(\"vectorizer_chat\")\n",
    "df[sentiment_our_column_name] = model.predict(vectorizer.transform(df[cleaned_text_column_name]))\n",
    "\n",
    "# SentimentIntensityAnalyzer model\n",
    "classification.append_sentiment_for_each_row(df, cleaned_text_column_name, new_column_name=sentiment_auto_column_name)\n",
    "\n",
    "# Results\n",
    "df[[cleaned_text_column_name, sentiment_auto_column_name, sentiment_our_column_name]]"
   ]
  },
  {
   "cell_type": "code",
   "execution_count": 6,
   "id": "7b37e507",
   "metadata": {},
   "outputs": [
    {
     "data": {
      "text/plain": [
       "(14652, 15)"
      ]
     },
     "execution_count": 6,
     "metadata": {},
     "output_type": "execute_result"
    }
   ],
   "source": [
    "# Rows with different sentiment\n",
    "df_differences = df[df[sentiment_our_column_name] != df[sentiment_auto_column_name]]\n",
    "df_differences.shape"
   ]
  },
  {
   "cell_type": "code",
   "execution_count": 7,
   "id": "ded774ee",
   "metadata": {},
   "outputs": [],
   "source": [
    "df_differences = df_differences[[text_column_name, sentiment_auto_column_name, sentiment_our_column_name]]\n",
    "db.save_dataset(df_differences, \"McDonald_s_Reviews_differences\")"
   ]
  },
  {
   "cell_type": "code",
   "execution_count": 8,
   "id": "556fbe4e",
   "metadata": {},
   "outputs": [],
   "source": [
    "# df[[cleaned_text_column_name, sentiment_auto_column_name, sentiment_our_column_name]].sample(10)"
   ]
  },
  {
   "cell_type": "code",
   "execution_count": 9,
   "id": "e6fb9cd8",
   "metadata": {},
   "outputs": [],
   "source": [
    "def plot_sentiment_word_clouds(df):\n",
    "    for sentiment in classification.Sentiment.get_all():\n",
    "        df_sentiment = df[(df[sentiment_auto_column_name]==sentiment)]\n",
    "        plotting.plot_word_cloud(df_sentiment, sentiment, cleaned_text_column_name, plt_name=\"Auto\")\n",
    "        df_sentiment = df[(df[sentiment_our_column_name]==sentiment)]\n",
    "        plotting.plot_word_cloud(df_sentiment, sentiment, cleaned_text_column_name, plt_name=\"Our\")\n",
    "\n",
    "# plot_sentiment_word_clouds(df)"
   ]
  },
  {
   "cell_type": "code",
   "execution_count": 10,
   "id": "67ad6505",
   "metadata": {},
   "outputs": [
    {
     "data": {
      "text/plain": [
       "(                                    store_address   latitude  longitude\n",
       " id                                                                     \n",
       " 8.0  8500 US-290, Austin, TX 78724, United States  30.329135 -97.660629,\n",
       "                                          store_address   latitude  longitude\n",
       " id                                                                          \n",
       " 9.0  13749 US-183 Hwy, Austin, TX 78750, United States  30.460718 -97.792874)"
      ]
     },
     "execution_count": 10,
     "metadata": {},
     "output_type": "execute_result"
    }
   ],
   "source": [
    "current_position = [30.460718, -97.792874]\n",
    "max_distance = 20\n",
    "best_rated_restaurant = utils.select_best_restaurant_from_stars(df, current_position, max_distance)\n",
    "best_clf_column = sentiment_auto_column_name\n",
    "best_feeling_restaurant = utils.select_best_restaurant_from_sentiment(df, current_position, max_distance, sentiment_column=best_clf_column)\n",
    "best_rated_restaurant, best_feeling_restaurant"
   ]
  },
  {
   "cell_type": "code",
   "execution_count": 11,
   "id": "a2c6b2e6",
   "metadata": {},
   "outputs": [],
   "source": [
    "db.save_dataset(df, \"McDonald_s_Reviews_preprocessed\")"
   ]
  }
 ],
 "metadata": {
  "kernelspec": {
   "display_name": "Python 3",
   "language": "python",
   "name": "python3"
  },
  "language_info": {
   "codemirror_mode": {
    "name": "ipython",
    "version": 3
   },
   "file_extension": ".py",
   "mimetype": "text/x-python",
   "name": "python",
   "nbconvert_exporter": "python",
   "pygments_lexer": "ipython3",
   "version": "3.10.9"
  },
  "papermill": {
   "default_parameters": {},
   "duration": 195.872841,
   "end_time": "2023-06-27T11:56:26.230611",
   "environment_variables": {},
   "exception": null,
   "input_path": "__notebook__.ipynb",
   "output_path": "__notebook__.ipynb",
   "parameters": {},
   "start_time": "2023-06-27T11:53:10.357770",
   "version": "2.4.0"
  }
 },
 "nbformat": 4,
 "nbformat_minor": 5
}
