{
 "cells": [
  {
   "cell_type": "code",
   "execution_count": null,
   "id": "dec6d26c",
   "metadata": {},
   "outputs": [],
   "source": [
    "# import custom modules\n",
    "from custom_libs import db\n",
    "from custom_libs import preprocessing\n",
    "from custom_libs import classification\n",
    "from custom_libs import plotting\n",
    "from custom_libs import utils\n",
    "from custom_libs import dump"
   ]
  },
  {
   "attachments": {},
   "cell_type": "markdown",
   "id": "3b248bbd",
   "metadata": {},
   "source": [
    "## Loading del dataset e Preprocessing"
   ]
  },
  {
   "cell_type": "code",
   "execution_count": null,
   "id": "68284b58",
   "metadata": {},
   "outputs": [],
   "source": [
    "df = db.get_dataset(\"McDonald_s_Reviews\")\n",
    "preprocessing.add_id_column(df, columns=[\"latitude\", \"longitude\"])\n",
    "preprocessing.add_rating_number_column(df)\n",
    "df.head(2)"
   ]
  },
  {
   "cell_type": "code",
   "execution_count": null,
   "id": "e6367f84",
   "metadata": {},
   "outputs": [],
   "source": [
    "proprocessing_function = preprocessing.preprocess_text\n",
    "preprocessing.preprocess_dataframe(df, 'review', proprocessing_function)\n",
    "df.head(2)"
   ]
  },
  {
   "attachments": {},
   "cell_type": "markdown",
   "id": "84710ed6",
   "metadata": {},
   "source": [
    "## Cose delle Classificazioni"
   ]
  },
  {
   "cell_type": "code",
   "execution_count": null,
   "id": "fbff9266",
   "metadata": {},
   "outputs": [],
   "source": [
    "model = dump.load_model(\"svc_model_chat\")\n",
    "vectorizer = dump.load_model(\"svc_vectorizer_chat\")"
   ]
  },
  {
   "cell_type": "code",
   "execution_count": null,
   "id": "4cc90ac5",
   "metadata": {},
   "outputs": [],
   "source": [
    "res = model.predict(vectorizer.transform(df['review_clean']))\n",
    "df['sentiment_our'] = res\n",
    "df.head(2)"
   ]
  },
  {
   "cell_type": "code",
   "execution_count": null,
   "id": "0ed421a2",
   "metadata": {},
   "outputs": [],
   "source": [
    "classification.append_sentiment_for_each_row(df, 'review_clean', new_column_name='sentiment_auto')\n",
    "df[['review_clean', 'sentiment_auto', 'sentiment_our']]"
   ]
  },
  {
   "cell_type": "code",
   "execution_count": null,
   "id": "7b37e507",
   "metadata": {},
   "outputs": [],
   "source": [
    "# select only the rows where the sentiment_our and sentiment_auto is different\n",
    "df2 = df[df['sentiment_our'] != df['sentiment_auto']]\n",
    "df2.shape"
   ]
  },
  {
   "cell_type": "code",
   "execution_count": null,
   "id": "46c931c6",
   "metadata": {},
   "outputs": [],
   "source": [
    "# get the rows with sentiment_our=Positive and sentiment_auto=Negative or viceversa\n",
    "df2 = df2[(df2['sentiment_our'] == classification.Sentiment.POSITIVE) & (df2['sentiment_auto'] == classification.Sentiment.NEGATIVE) | (df2['sentiment_our'] == classification.Sentiment.NEGATIVE) & (df2['sentiment_auto'] == classification.Sentiment.POSITIVE)]\n",
    "df2.shape"
   ]
  },
  {
   "cell_type": "code",
   "execution_count": null,
   "id": "e6fb9cd8",
   "metadata": {},
   "outputs": [],
   "source": [
    "def plot_sentiment_word_clouds(df):\n",
    "    for sentiment in classification.Sentiment.get_all():\n",
    "        df_sentiment = df[(df['sentiment']==sentiment)]\n",
    "        plotting.plot_word_cloud(df_sentiment, sentiment, 'review_clean')\n",
    "\n",
    "# plot_sentiment_word_clouds(df)"
   ]
  },
  {
   "cell_type": "code",
   "execution_count": null,
   "id": "67ad6505",
   "metadata": {},
   "outputs": [],
   "source": [
    "# non cancellare per ora questo commento: [30.460718, -97.792874]  max_distance=100\n",
    "current_position = [30.460718, -97.792874]\n",
    "best_rated_restaurant = utils.select_best_restaurant_from_stars(df, current_position, max_distance=100)"
   ]
  },
  {
   "cell_type": "code",
   "execution_count": null,
   "id": "27d1b38e",
   "metadata": {},
   "outputs": [],
   "source": [
    "best_feeling_restaurant = utils.select_best_restaurant_from_sentiment(df, current_position, max_distance=100)\n",
    "best_feeling_restaurant"
   ]
  }
 ],
 "metadata": {
  "kernelspec": {
   "display_name": "Python 3",
   "language": "python",
   "name": "python3"
  },
  "language_info": {
   "codemirror_mode": {
    "name": "ipython",
    "version": 3
   },
   "file_extension": ".py",
   "mimetype": "text/x-python",
   "name": "python",
   "nbconvert_exporter": "python",
   "pygments_lexer": "ipython3",
   "version": "3.10.9"
  },
  "papermill": {
   "default_parameters": {},
   "duration": 195.872841,
   "end_time": "2023-06-27T11:56:26.230611",
   "environment_variables": {},
   "exception": null,
   "input_path": "__notebook__.ipynb",
   "output_path": "__notebook__.ipynb",
   "parameters": {},
   "start_time": "2023-06-27T11:53:10.357770",
   "version": "2.4.0"
  }
 },
 "nbformat": 4,
 "nbformat_minor": 5
}
