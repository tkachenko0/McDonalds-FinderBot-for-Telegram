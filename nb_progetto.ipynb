{
 "cells": [
  {
   "cell_type": "code",
   "execution_count": 1,
   "id": "dec6d26c",
   "metadata": {},
   "outputs": [],
   "source": [
    "import warnings\n",
    "warnings.filterwarnings(\"ignore\")\n",
    "from sklearn.model_selection import train_test_split\n",
    "from sklearn.feature_extraction.text import TfidfVectorizer\n",
    "from sklearn.svm import SVC\n",
    "\n",
    "# import custom modules\n",
    "from custom_libs import db\n",
    "from custom_libs import preprocessing\n",
    "from custom_libs import classification\n",
    "from custom_libs import plotting"
   ]
  },
  {
   "attachments": {},
   "cell_type": "markdown",
   "id": "3b248bbd",
   "metadata": {},
   "source": [
    "## Loading del dataset e Preprocessing"
   ]
  },
  {
   "cell_type": "code",
   "execution_count": 2,
   "id": "68284b58",
   "metadata": {},
   "outputs": [
    {
     "name": "stdout",
     "output_type": "stream",
     "text": [
      "Number of unique ids:  39\n"
     ]
    },
    {
     "data": {
      "text/html": [
       "<div>\n",
       "<style scoped>\n",
       "    .dataframe tbody tr th:only-of-type {\n",
       "        vertical-align: middle;\n",
       "    }\n",
       "\n",
       "    .dataframe tbody tr th {\n",
       "        vertical-align: top;\n",
       "    }\n",
       "\n",
       "    .dataframe thead th {\n",
       "        text-align: right;\n",
       "    }\n",
       "</style>\n",
       "<table border=\"1\" class=\"dataframe\">\n",
       "  <thead>\n",
       "    <tr style=\"text-align: right;\">\n",
       "      <th></th>\n",
       "      <th>reviewer_id</th>\n",
       "      <th>store_name</th>\n",
       "      <th>category</th>\n",
       "      <th>store_address</th>\n",
       "      <th>latitude</th>\n",
       "      <th>longitude</th>\n",
       "      <th>rating_count</th>\n",
       "      <th>review_time</th>\n",
       "      <th>review</th>\n",
       "      <th>rating</th>\n",
       "      <th>id</th>\n",
       "    </tr>\n",
       "  </thead>\n",
       "  <tbody>\n",
       "    <tr>\n",
       "      <th>0</th>\n",
       "      <td>1</td>\n",
       "      <td>McDonald's</td>\n",
       "      <td>Fast food restaurant</td>\n",
       "      <td>13749 US-183 Hwy, Austin, TX 78750, United States</td>\n",
       "      <td>30.460718</td>\n",
       "      <td>-97.792874</td>\n",
       "      <td>1,240</td>\n",
       "      <td>3 months ago</td>\n",
       "      <td>Why does it look like someone spit on my food?...</td>\n",
       "      <td>1 star</td>\n",
       "      <td>9.0</td>\n",
       "    </tr>\n",
       "    <tr>\n",
       "      <th>1</th>\n",
       "      <td>2</td>\n",
       "      <td>McDonald's</td>\n",
       "      <td>Fast food restaurant</td>\n",
       "      <td>13749 US-183 Hwy, Austin, TX 78750, United States</td>\n",
       "      <td>30.460718</td>\n",
       "      <td>-97.792874</td>\n",
       "      <td>1,240</td>\n",
       "      <td>5 days ago</td>\n",
       "      <td>It'd McDonalds. It is what it is as far as the...</td>\n",
       "      <td>4 stars</td>\n",
       "      <td>9.0</td>\n",
       "    </tr>\n",
       "  </tbody>\n",
       "</table>\n",
       "</div>"
      ],
      "text/plain": [
       "   reviewer_id  store_name              category  \\\n",
       "0            1  McDonald's  Fast food restaurant   \n",
       "1            2  McDonald's  Fast food restaurant   \n",
       "\n",
       "                                       store_address   latitude  longitude  \\\n",
       "0  13749 US-183 Hwy, Austin, TX 78750, United States  30.460718 -97.792874   \n",
       "1  13749 US-183 Hwy, Austin, TX 78750, United States  30.460718 -97.792874   \n",
       "\n",
       "  rating_count   review_time  \\\n",
       "0        1,240  3 months ago   \n",
       "1        1,240    5 days ago   \n",
       "\n",
       "                                              review   rating   id  \n",
       "0  Why does it look like someone spit on my food?...   1 star  9.0  \n",
       "1  It'd McDonalds. It is what it is as far as the...  4 stars  9.0  "
      ]
     },
     "execution_count": 2,
     "metadata": {},
     "output_type": "execute_result"
    }
   ],
   "source": [
    "df = db.get_dataset(\"McDonald_s_Reviews\")\n",
    "preprocessing.add_id_column(df, columns=[\"latitude\", \"longitude\"])\n",
    "df.head(2)"
   ]
  },
  {
   "attachments": {},
   "cell_type": "markdown",
   "id": "cb6342a2",
   "metadata": {},
   "source": [
    "Qui prima dovremmo fare prima un il preprocessing\n",
    "idee per un possibile preprocessing da aggiungere alla funzione che esiste già:\n",
    "- eliminare parole come \"mcdonalds\", \"order\" (dopo cheè stato fatto il lower case)"
   ]
  },
  {
   "cell_type": "code",
   "execution_count": 3,
   "id": "e6367f84",
   "metadata": {},
   "outputs": [],
   "source": [
    "#proprocessing_function = preprocessing.preprocess_text1\n",
    "#preprocessing.preprocess_dataframe(X, 'review', proprocessing_function)"
   ]
  },
  {
   "attachments": {},
   "cell_type": "markdown",
   "id": "84710ed6",
   "metadata": {},
   "source": [
    "## Sezione inerente alle Classificazioni"
   ]
  },
  {
   "cell_type": "code",
   "execution_count": 4,
   "id": "0ed421a2",
   "metadata": {},
   "outputs": [
    {
     "data": {
      "text/html": [
       "<div>\n",
       "<style scoped>\n",
       "    .dataframe tbody tr th:only-of-type {\n",
       "        vertical-align: middle;\n",
       "    }\n",
       "\n",
       "    .dataframe tbody tr th {\n",
       "        vertical-align: top;\n",
       "    }\n",
       "\n",
       "    .dataframe thead th {\n",
       "        text-align: right;\n",
       "    }\n",
       "</style>\n",
       "<table border=\"1\" class=\"dataframe\">\n",
       "  <thead>\n",
       "    <tr style=\"text-align: right;\">\n",
       "      <th></th>\n",
       "      <th>review</th>\n",
       "      <th>sentiment</th>\n",
       "    </tr>\n",
       "  </thead>\n",
       "  <tbody>\n",
       "    <tr>\n",
       "      <th>0</th>\n",
       "      <td>Why does it look like someone spit on my food?...</td>\n",
       "      <td>Positive</td>\n",
       "    </tr>\n",
       "    <tr>\n",
       "      <th>1</th>\n",
       "      <td>It'd McDonalds. It is what it is as far as the...</td>\n",
       "      <td>Positive</td>\n",
       "    </tr>\n",
       "    <tr>\n",
       "      <th>2</th>\n",
       "      <td>Made a mobile order got to the speaker and che...</td>\n",
       "      <td>Negative</td>\n",
       "    </tr>\n",
       "    <tr>\n",
       "      <th>3</th>\n",
       "      <td>My mc. Crispy chicken sandwich was ï¿½ï¿½ï¿½ï¿...</td>\n",
       "      <td>Neutral</td>\n",
       "    </tr>\n",
       "    <tr>\n",
       "      <th>4</th>\n",
       "      <td>I repeat my order 3 times in the drive thru, a...</td>\n",
       "      <td>Negative</td>\n",
       "    </tr>\n",
       "    <tr>\n",
       "      <th>...</th>\n",
       "      <td>...</td>\n",
       "      <td>...</td>\n",
       "    </tr>\n",
       "    <tr>\n",
       "      <th>33391</th>\n",
       "      <td>They treated me very badly.</td>\n",
       "      <td>Negative</td>\n",
       "    </tr>\n",
       "    <tr>\n",
       "      <th>33392</th>\n",
       "      <td>The service is very good</td>\n",
       "      <td>Positive</td>\n",
       "    </tr>\n",
       "    <tr>\n",
       "      <th>33393</th>\n",
       "      <td>To remove hunger is enough</td>\n",
       "      <td>Negative</td>\n",
       "    </tr>\n",
       "    <tr>\n",
       "      <th>33394</th>\n",
       "      <td>It's good, but lately it has become very expen...</td>\n",
       "      <td>Positive</td>\n",
       "    </tr>\n",
       "    <tr>\n",
       "      <th>33395</th>\n",
       "      <td>they took good care of me</td>\n",
       "      <td>Positive</td>\n",
       "    </tr>\n",
       "  </tbody>\n",
       "</table>\n",
       "<p>33396 rows × 2 columns</p>\n",
       "</div>"
      ],
      "text/plain": [
       "                                                  review sentiment\n",
       "0      Why does it look like someone spit on my food?...  Positive\n",
       "1      It'd McDonalds. It is what it is as far as the...  Positive\n",
       "2      Made a mobile order got to the speaker and che...  Negative\n",
       "3      My mc. Crispy chicken sandwich was ï¿½ï¿½ï¿½ï¿...   Neutral\n",
       "4      I repeat my order 3 times in the drive thru, a...  Negative\n",
       "...                                                  ...       ...\n",
       "33391                        They treated me very badly.  Negative\n",
       "33392                           The service is very good  Positive\n",
       "33393                         To remove hunger is enough  Negative\n",
       "33394  It's good, but lately it has become very expen...  Positive\n",
       "33395                          they took good care of me  Positive\n",
       "\n",
       "[33396 rows x 2 columns]"
      ]
     },
     "execution_count": 4,
     "metadata": {},
     "output_type": "execute_result"
    }
   ],
   "source": [
    "classification.append_sentiment_for_each_row(df, 'review', new_column_name='sentiment')\n",
    "df[['review', 'sentiment']]"
   ]
  },
  {
   "cell_type": "code",
   "execution_count": 5,
   "id": "e6fb9cd8",
   "metadata": {},
   "outputs": [],
   "source": [
    "def plot_sentiment_word_clouds(df):\n",
    "    for sentiment in classification.Sentiment.get_all():\n",
    "        X_sentiment = df[(df['sentiment']==sentiment)]\n",
    "        plotting.plot_word_cloud(X_sentiment, sentiment)\n",
    "\n",
    "# plot_sentiment_word_clouds(df)"
   ]
  },
  {
   "cell_type": "code",
   "execution_count": 6,
   "id": "75909735",
   "metadata": {},
   "outputs": [],
   "source": [
    "X, y= df['review'], df['sentiment']\n",
    "x_train, x_test, y_train, y_test = train_test_split(X, y, test_size=0.2, random_state=42)"
   ]
  },
  {
   "cell_type": "code",
   "execution_count": 7,
   "id": "569d7d53",
   "metadata": {},
   "outputs": [],
   "source": [
    "# Ci sarebbe da sperimentare con i parametri di questo come nel esempio medico (bigrammi, tringrammi, ecc)\n",
    "# C'è anche una funzione molto carina che si può usare che si chiama \"most_informative_feature_for_class\"\n",
    "# Ci sarebbe da provare anche il Count Vectorizer (servirà sicuramente per la presentazione)\n",
    "vectorizer = TfidfVectorizer()\n",
    "x_train_tfidf = vectorizer.fit_transform(x_train)\n",
    "x_test_tfidf = vectorizer.transform(x_test)"
   ]
  },
  {
   "cell_type": "code",
   "execution_count": 8,
   "id": "ee6fb608",
   "metadata": {},
   "outputs": [
    {
     "name": "stdout",
     "output_type": "stream",
     "text": [
      "Accuracy: 0.8868263473053892\n",
      "Classification Report:\n",
      "              precision    recall  f1-score   support\n",
      "\n",
      "    Negative       0.81      0.88      0.84      1937\n",
      "     Neutral       0.88      0.82      0.85      1244\n",
      "    Positive       0.93      0.91      0.92      3499\n",
      "\n",
      "    accuracy                           0.89      6680\n",
      "   macro avg       0.88      0.87      0.87      6680\n",
      "weighted avg       0.89      0.89      0.89      6680\n",
      "\n",
      "Confusion matrix, without normalization\n"
     ]
    },
    {
     "data": {
      "image/png": "[encoded data removed]",
      "text/plain": [
       "<Figure size 640x480 with 2 Axes>"
      ]
     },
     "metadata": {},
     "output_type": "display_data"
    }
   ],
   "source": [
    "class_names = classification.Sentiment.get_all()\n",
    "model = classification.test_classifier(SVC, x_train_tfidf, x_test_tfidf, y_train, y_test, class_names)"
   ]
  },
  {
   "attachments": {},
   "cell_type": "markdown",
   "id": "18db44ab",
   "metadata": {},
   "source": [
    "Abbiamo altri 2 classificatori da testare, tutti in combinazione con diverse configurazioni del TF-IDF e del CountVectorizer."
   ]
  },
  {
   "cell_type": "code",
   "execution_count": 9,
   "id": "bfa02ca9",
   "metadata": {},
   "outputs": [
    {
     "data": {
      "text/html": [
       "<div>\n",
       "<style scoped>\n",
       "    .dataframe tbody tr th:only-of-type {\n",
       "        vertical-align: middle;\n",
       "    }\n",
       "\n",
       "    .dataframe tbody tr th {\n",
       "        vertical-align: top;\n",
       "    }\n",
       "\n",
       "    .dataframe thead th {\n",
       "        text-align: right;\n",
       "    }\n",
       "</style>\n",
       "<table border=\"1\" class=\"dataframe\">\n",
       "  <thead>\n",
       "    <tr style=\"text-align: right;\">\n",
       "      <th></th>\n",
       "      <th>test_sent</th>\n",
       "      <th>prediction</th>\n",
       "    </tr>\n",
       "  </thead>\n",
       "  <tbody>\n",
       "    <tr>\n",
       "      <th>0</th>\n",
       "      <td>This restaurant has excellent service and deli...</td>\n",
       "      <td>Positive</td>\n",
       "    </tr>\n",
       "    <tr>\n",
       "      <th>1</th>\n",
       "      <td>This restaurant sucks.</td>\n",
       "      <td>Negative</td>\n",
       "    </tr>\n",
       "    <tr>\n",
       "      <th>2</th>\n",
       "      <td>This is fine</td>\n",
       "      <td>Positive</td>\n",
       "    </tr>\n",
       "    <tr>\n",
       "      <th>3</th>\n",
       "      <td>This is dull</td>\n",
       "      <td>Neutral</td>\n",
       "    </tr>\n",
       "    <tr>\n",
       "      <th>4</th>\n",
       "      <td>its bad</td>\n",
       "      <td>Negative</td>\n",
       "    </tr>\n",
       "  </tbody>\n",
       "</table>\n",
       "</div>"
      ],
      "text/plain": [
       "                                           test_sent prediction\n",
       "0  This restaurant has excellent service and deli...   Positive\n",
       "1                             This restaurant sucks.   Negative\n",
       "2                                       This is fine   Positive\n",
       "3                                       This is dull    Neutral\n",
       "4                                            its bad   Negative"
      ]
     },
     "execution_count": 9,
     "metadata": {},
     "output_type": "execute_result"
    }
   ],
   "source": [
    "reviews = [\n",
    "    \"This restaurant has excellent service and delicious food.\",\n",
    "    \"This restaurant sucks.\", \"This is fine\",\n",
    "    \"This is dull\",\n",
    "    \"its bad\"\n",
    "]\n",
    "\n",
    "# Questo None non ci va bene\n",
    "# Ci serve per adesso perche in fase di induzione non faciamo nessum preprocessing\n",
    "# Come lo faremo aggiungeremo questa funzione anche qui\n",
    "classification.predict_sentences(reviews, vectorizer, model, preprocess_function=None)"
   ]
  }
 ],
 "metadata": {
  "kernelspec": {
   "display_name": "Python 3",
   "language": "python",
   "name": "python3"
  },
  "language_info": {
   "codemirror_mode": {
    "name": "ipython",
    "version": 3
   },
   "file_extension": ".py",
   "mimetype": "text/x-python",
   "name": "python",
   "nbconvert_exporter": "python",
   "pygments_lexer": "ipython3",
   "version": "3.10.9"
  },
  "papermill": {
   "default_parameters": {},
   "duration": 195.872841,
   "end_time": "2023-06-27T11:56:26.230611",
   "environment_variables": {},
   "exception": null,
   "input_path": "__notebook__.ipynb",
   "output_path": "__notebook__.ipynb",
   "parameters": {},
   "start_time": "2023-06-27T11:53:10.357770",
   "version": "2.4.0"
  }
 },
 "nbformat": 4,
 "nbformat_minor": 5
}
