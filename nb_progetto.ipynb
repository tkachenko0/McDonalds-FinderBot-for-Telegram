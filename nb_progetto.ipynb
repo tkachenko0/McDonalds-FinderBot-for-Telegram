{
 "cells": [
  {
   "cell_type": "code",
   "execution_count": 1,
   "id": "dec6d26c",
   "metadata": {},
   "outputs": [],
   "source": [
    "import warnings\n",
    "warnings.filterwarnings(\"ignore\")\n",
    "\n",
    "# import custom modules\n",
    "from custom_libs import db\n",
    "from custom_libs import preprocessing\n",
    "from custom_libs import classification\n",
    "from custom_libs import plotting\n",
    "from custom_libs import utils\n",
    "from custom_libs import dump\n",
    "from custom_libs import db"
   ]
  },
  {
   "cell_type": "code",
   "execution_count": 2,
   "id": "6f278b25",
   "metadata": {},
   "outputs": [],
   "source": [
    "text_column_name = 'review'\n",
    "cleaned_text_column_name = 'review_cleaned'"
   ]
  },
  {
   "cell_type": "code",
   "execution_count": 3,
   "id": "68284b58",
   "metadata": {},
   "outputs": [
    {
     "name": "stdout",
     "output_type": "stream",
     "text": [
      "Number of unique ids:  39\n"
     ]
    }
   ],
   "source": [
    "df = db.get_dataset(\"McDonald_s_Reviews\")\n",
    "preprocessing.add_id_column(df, columns=[\"latitude\", \"longitude\"])\n",
    "preprocessing.add_rating_number_column(df)\n",
    "proprocessing_function = preprocessing.preprocess_text\n",
    "preprocessing.preprocess_dataframe(df, text_column_name, cleaned_text_column_name, proprocessing_function)\n",
    "df.head(2)"
   ]
  },
  {
   "cell_type": "code",
   "execution_count": null,
   "id": "ee906ed7",
   "metadata": {},
   "outputs": [],
   "source": [
    "sentiment_our_column_name = 'sentiment_our'\n",
    "sentiment_auto_column_name = 'sentiment_auto'"
   ]
  },
  {
   "cell_type": "code",
   "execution_count": null,
   "id": "fbff9266",
   "metadata": {},
   "outputs": [],
   "source": [
    "# Our model\n",
    "model = dump.load_model(\"model_chat\")\n",
    "vectorizer = dump.load_model(\"vectorizer_chat\")\n",
    "df[sentiment_our_column_name] = model.predict(vectorizer.transform(df[cleaned_text_column_name]))\n",
    "\n",
    "# SentimentIntensityAnalyzer model\n",
    "classification.append_sentiment_for_each_row(df, cleaned_text_column_name, new_column_name=sentiment_auto_column_name)\n",
    "\n",
    "# Results\n",
    "df[[cleaned_text_column_name, sentiment_auto_column_name, sentiment_our_column_name]]"
   ]
  },
  {
   "cell_type": "code",
   "execution_count": null,
   "id": "7b37e507",
   "metadata": {},
   "outputs": [],
   "source": [
    "# Rows with different sentiment\n",
    "df_differences = df[df[sentiment_our_column_name] != df[sentiment_auto_column_name]]\n",
    "df_differences.shape"
   ]
  },
  {
   "cell_type": "code",
   "execution_count": null,
   "id": "ded774ee",
   "metadata": {},
   "outputs": [],
   "source": [
    "df_differences = df_differences[[text_column_name, sentiment_auto_column_name, sentiment_our_column_name]]\n",
    "db.save_dataset(df_differences, \"McDonald_s_Reviews_differences\")"
   ]
  },
  {
   "cell_type": "code",
   "execution_count": null,
   "id": "556fbe4e",
   "metadata": {},
   "outputs": [],
   "source": [
    "# df[[cleaned_text_column_name, sentiment_auto_column_name, sentiment_our_column_name]].sample(10)"
   ]
  },
  {
   "cell_type": "code",
   "execution_count": null,
   "id": "e6fb9cd8",
   "metadata": {},
   "outputs": [],
   "source": [
    "def plot_sentiment_word_clouds(df):\n",
    "    for sentiment in classification.Sentiment.get_all():\n",
    "        df_sentiment = df[(df[sentiment_auto_column_name]==sentiment)]\n",
    "        plotting.plot_word_cloud(df_sentiment, sentiment, cleaned_text_column_name, plt_name=\"Auto\")\n",
    "        df_sentiment = df[(df[sentiment_our_column_name]==sentiment)]\n",
    "        plotting.plot_word_cloud(df_sentiment, sentiment, cleaned_text_column_name, plt_name=\"Our\")\n",
    "\n",
    "# plot_sentiment_word_clouds(df)"
   ]
  },
  {
   "cell_type": "code",
   "execution_count": null,
   "id": "67ad6505",
   "metadata": {},
   "outputs": [],
   "source": [
    "current_position = [30.460718, -97.792874]\n",
    "max_distance = 20\n",
    "best_rated_restaurant = utils.select_best_restaurant_from_stars(df, current_position, max_distance)\n",
    "best_clf_column = sentiment_auto_column_name\n",
    "best_feeling_restaurant = utils.select_best_restaurant_from_sentiment(df, current_position, max_distance, sentiment_column=best_clf_column)\n",
    "best_rated_restaurant, best_feeling_restaurant"
   ]
  }
 ],
 "metadata": {
  "kernelspec": {
   "display_name": "Python 3",
   "language": "python",
   "name": "python3"
  },
  "language_info": {
   "codemirror_mode": {
    "name": "ipython",
    "version": 3
   },
   "file_extension": ".py",
   "mimetype": "text/x-python",
   "name": "python",
   "nbconvert_exporter": "python",
   "pygments_lexer": "ipython3",
   "version": "3.10.9"
  },
  "papermill": {
   "default_parameters": {},
   "duration": 195.872841,
   "end_time": "2023-06-27T11:56:26.230611",
   "environment_variables": {},
   "exception": null,
   "input_path": "__notebook__.ipynb",
   "output_path": "__notebook__.ipynb",
   "parameters": {},
   "start_time": "2023-06-27T11:53:10.357770",
   "version": "2.4.0"
  }
 },
 "nbformat": 4,
 "nbformat_minor": 5
}
