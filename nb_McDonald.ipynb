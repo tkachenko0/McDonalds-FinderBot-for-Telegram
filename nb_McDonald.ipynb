{
 "cells": [
  {
   "attachments": {},
   "cell_type": "markdown",
   "id": "2acbdd68",
   "metadata": {
    "papermill": {
     "duration": 0.010828,
     "end_time": "2023-06-27T11:53:20.809025",
     "exception": false,
     "start_time": "2023-06-27T11:53:20.798197",
     "status": "completed"
    },
    "tags": []
   },
   "source": [
    "### Support Vector Classifier (SVC) algorithm. \n",
    "\n",
    "The goal of this project is to predict the sentiment expressed in the reviews and gain valuable insights into customer perceptions.\n",
    "\n",
    "Through vectorization techniques, I convert the textual data into numerical representations suitable for the SVC algorithm, allowing for effective sentiment analysis."
   ]
  },
  {
   "cell_type": "code",
   "execution_count": 19,
   "id": "acfedb22",
   "metadata": {
    "execution": {
     "iopub.execute_input": "2023-06-27T11:53:20.943407Z",
     "iopub.status.busy": "2023-06-27T11:53:20.942678Z",
     "iopub.status.idle": "2023-06-27T11:53:22.212138Z",
     "shell.execute_reply": "2023-06-27T11:53:22.211169Z"
    },
    "papermill": {
     "duration": 1.284602,
     "end_time": "2023-06-27T11:53:22.214707",
     "exception": false,
     "start_time": "2023-06-27T11:53:20.930105",
     "status": "completed"
    },
    "pycharm": {
     "is_executing": true
    },
    "tags": []
   },
   "outputs": [],
   "source": [
    "import numpy as np \n",
    "import pandas as pd\n",
    "import matplotlib.pyplot as plt\n",
    "import seaborn as sns"
   ]
  },
  {
   "cell_type": "markdown",
   "id": "f74dba93",
   "metadata": {
    "papermill": {
     "duration": 0.010963,
     "end_time": "2023-06-27T11:53:22.237116",
     "exception": false,
     "start_time": "2023-06-27T11:53:22.226153",
     "status": "completed"
    },
    "tags": []
   },
   "source": [
    "**For Ignoring Warnings**"
   ]
  },
  {
   "cell_type": "code",
   "execution_count": 20,
   "id": "4d89b493",
   "metadata": {
    "execution": {
     "iopub.execute_input": "2023-06-27T11:53:22.261289Z",
     "iopub.status.busy": "2023-06-27T11:53:22.260291Z",
     "iopub.status.idle": "2023-06-27T11:53:22.264981Z",
     "shell.execute_reply": "2023-06-27T11:53:22.264123Z"
    },
    "papermill": {
     "duration": 0.01895,
     "end_time": "2023-06-27T11:53:22.267117",
     "exception": false,
     "start_time": "2023-06-27T11:53:22.248167",
     "status": "completed"
    },
    "tags": []
   },
   "outputs": [],
   "source": [
    "import warnings\n",
    "warnings.filterwarnings(\"ignore\")"
   ]
  },
  {
   "cell_type": "markdown",
   "id": "db1c3d90",
   "metadata": {
    "papermill": {
     "duration": 0.010889,
     "end_time": "2023-06-27T11:53:22.289091",
     "exception": false,
     "start_time": "2023-06-27T11:53:22.278202",
     "status": "completed"
    },
    "tags": []
   },
   "source": [
    "**For Sentiment Analysis**"
   ]
  },
  {
   "cell_type": "code",
   "execution_count": 21,
   "id": "5e7c41ec",
   "metadata": {
    "execution": {
     "iopub.execute_input": "2023-06-27T11:53:22.312437Z",
     "iopub.status.busy": "2023-06-27T11:53:22.312157Z",
     "iopub.status.idle": "2023-06-27T11:53:23.060446Z",
     "shell.execute_reply": "2023-06-27T11:53:23.059494Z"
    },
    "papermill": {
     "duration": 0.762905,
     "end_time": "2023-06-27T11:53:23.063071",
     "exception": false,
     "start_time": "2023-06-27T11:53:22.300166",
     "status": "completed"
    },
    "tags": []
   },
   "outputs": [],
   "source": [
    "import pandas as pd\n",
    "import nltk\n",
    "from nltk.sentiment import SentimentIntensityAnalyzer"
   ]
  },
  {
   "cell_type": "markdown",
   "id": "c0cb5ab8",
   "metadata": {
    "papermill": {
     "duration": 0.0109,
     "end_time": "2023-06-27T11:53:23.085202",
     "exception": false,
     "start_time": "2023-06-27T11:53:23.074302",
     "status": "completed"
    },
    "tags": []
   },
   "source": [
    "**For Building Model**"
   ]
  },
  {
   "cell_type": "code",
   "execution_count": 22,
   "id": "c311118b",
   "metadata": {
    "execution": {
     "iopub.execute_input": "2023-06-27T11:53:23.108523Z",
     "iopub.status.busy": "2023-06-27T11:53:23.108238Z",
     "iopub.status.idle": "2023-06-27T11:53:23.112945Z",
     "shell.execute_reply": "2023-06-27T11:53:23.112013Z"
    },
    "papermill": {
     "duration": 0.018661,
     "end_time": "2023-06-27T11:53:23.114819",
     "exception": false,
     "start_time": "2023-06-27T11:53:23.096158",
     "status": "completed"
    },
    "tags": []
   },
   "outputs": [],
   "source": [
    "import pandas as pd\n",
    "from sklearn.model_selection import train_test_split\n",
    "from sklearn.feature_extraction.text import TfidfVectorizer\n",
    "from sklearn.svm import SVC\n",
    "from sklearn.metrics import accuracy_score, classification_report"
   ]
  },
  {
   "cell_type": "code",
   "execution_count": 23,
   "id": "65fe6e8a",
   "metadata": {
    "execution": {
     "iopub.execute_input": "2023-06-27T11:53:23.182619Z",
     "iopub.status.busy": "2023-06-27T11:53:23.181864Z",
     "iopub.status.idle": "2023-06-27T11:53:23.454723Z",
     "shell.execute_reply": "2023-06-27T11:53:23.453781Z"
    },
    "papermill": {
     "duration": 0.287468,
     "end_time": "2023-06-27T11:53:23.457238",
     "exception": false,
     "start_time": "2023-06-27T11:53:23.169770",
     "status": "completed"
    },
    "tags": []
   },
   "outputs": [],
   "source": [
    "mcd = pd.read_csv(\"./McDonald_s_Reviews.csv\", encoding=\"latin-1\")"
   ]
  },
  {
   "cell_type": "markdown",
   "id": "7f518aef",
   "metadata": {
    "papermill": {
     "duration": 0.011038,
     "end_time": "2023-06-27T11:53:23.479606",
     "exception": false,
     "start_time": "2023-06-27T11:53:23.468568",
     "status": "completed"
    },
    "tags": []
   },
   "source": [
    "* <h2>Data Exploration:</h2>\n",
    "To understand the dataset, I examined its columns, inspected the first few rows using the head() function, and reviewed a sample of records. This exploration provided insights into the dataset's structure and contents."
   ]
  },
  {
   "cell_type": "code",
   "execution_count": 24,
   "id": "58cde95b",
   "metadata": {
    "execution": {
     "iopub.execute_input": "2023-06-27T11:53:23.507289Z",
     "iopub.status.busy": "2023-06-27T11:53:23.506327Z",
     "iopub.status.idle": "2023-06-27T11:53:23.514698Z",
     "shell.execute_reply": "2023-06-27T11:53:23.513865Z"
    },
    "papermill": {
     "duration": 0.026029,
     "end_time": "2023-06-27T11:53:23.516600",
     "exception": false,
     "start_time": "2023-06-27T11:53:23.490571",
     "status": "completed"
    },
    "tags": []
   },
   "outputs": [
    {
     "data": {
      "text/plain": [
       "Index(['reviewer_id', 'store_name', 'category', 'store_address', 'latitude ',\n",
       "       'longitude', 'rating_count', 'review_time', 'review', 'rating'],\n",
       "      dtype='object')"
      ]
     },
     "execution_count": 24,
     "metadata": {},
     "output_type": "execute_result"
    }
   ],
   "source": [
    "mcd.columns"
   ]
  },
  {
   "cell_type": "markdown",
   "id": "0b535a8d",
   "metadata": {
    "papermill": {
     "duration": 0.011916,
     "end_time": "2023-06-27T11:53:23.539658",
     "exception": false,
     "start_time": "2023-06-27T11:53:23.527742",
     "status": "completed"
    },
    "tags": []
   },
   "source": [
    "<h3>short Description of each column</h3>"
   ]
  },
  {
   "cell_type": "markdown",
   "id": "bf9bba21",
   "metadata": {
    "papermill": {
     "duration": 0.014618,
     "end_time": "2023-06-27T11:53:23.566579",
     "exception": false,
     "start_time": "2023-06-27T11:53:23.551961",
     "status": "completed"
    },
    "tags": []
   },
   "source": [
    "* reviewer_id: Unique identifier for each reviewer (anonymized)\n",
    "* store_name: Name of the McDonald's store\n",
    "* category: Category or type of the store\n",
    "* store_address: Address of the store\n",
    "* latitude: Latitude coordinate of the store's location\n",
    "* longitude: Longitude coordinate of the store's location\n",
    "* rating_count: Number of ratings/reviews for the store\n",
    "* review_time: Timestamp of the review\n",
    "* review: Textual content of the review\n",
    "* rating: Rating provided by the reviewer"
   ]
  },
  {
   "cell_type": "code",
   "execution_count": 25,
   "id": "17b6c944",
   "metadata": {
    "execution": {
     "iopub.execute_input": "2023-06-27T11:53:23.594426Z",
     "iopub.status.busy": "2023-06-27T11:53:23.594099Z",
     "iopub.status.idle": "2023-06-27T11:53:23.616973Z",
     "shell.execute_reply": "2023-06-27T11:53:23.616151Z"
    },
    "papermill": {
     "duration": 0.039213,
     "end_time": "2023-06-27T11:53:23.619003",
     "exception": false,
     "start_time": "2023-06-27T11:53:23.579790",
     "status": "completed"
    },
    "tags": []
   },
   "outputs": [
    {
     "data": {
      "text/html": [
       "<div>\n",
       "<style scoped>\n",
       "    .dataframe tbody tr th:only-of-type {\n",
       "        vertical-align: middle;\n",
       "    }\n",
       "\n",
       "    .dataframe tbody tr th {\n",
       "        vertical-align: top;\n",
       "    }\n",
       "\n",
       "    .dataframe thead th {\n",
       "        text-align: right;\n",
       "    }\n",
       "</style>\n",
       "<table border=\"1\" class=\"dataframe\">\n",
       "  <thead>\n",
       "    <tr style=\"text-align: right;\">\n",
       "      <th></th>\n",
       "      <th>reviewer_id</th>\n",
       "      <th>store_name</th>\n",
       "      <th>category</th>\n",
       "      <th>store_address</th>\n",
       "      <th>latitude</th>\n",
       "      <th>longitude</th>\n",
       "      <th>rating_count</th>\n",
       "      <th>review_time</th>\n",
       "      <th>review</th>\n",
       "      <th>rating</th>\n",
       "    </tr>\n",
       "  </thead>\n",
       "  <tbody>\n",
       "    <tr>\n",
       "      <th>0</th>\n",
       "      <td>1</td>\n",
       "      <td>McDonald's</td>\n",
       "      <td>Fast food restaurant</td>\n",
       "      <td>13749 US-183 Hwy, Austin, TX 78750, United States</td>\n",
       "      <td>30.460718</td>\n",
       "      <td>-97.792874</td>\n",
       "      <td>1,240</td>\n",
       "      <td>3 months ago</td>\n",
       "      <td>Why does it look like someone spit on my food?...</td>\n",
       "      <td>1 star</td>\n",
       "    </tr>\n",
       "    <tr>\n",
       "      <th>1</th>\n",
       "      <td>2</td>\n",
       "      <td>McDonald's</td>\n",
       "      <td>Fast food restaurant</td>\n",
       "      <td>13749 US-183 Hwy, Austin, TX 78750, United States</td>\n",
       "      <td>30.460718</td>\n",
       "      <td>-97.792874</td>\n",
       "      <td>1,240</td>\n",
       "      <td>5 days ago</td>\n",
       "      <td>It'd McDonalds. It is what it is as far as the...</td>\n",
       "      <td>4 stars</td>\n",
       "    </tr>\n",
       "    <tr>\n",
       "      <th>2</th>\n",
       "      <td>3</td>\n",
       "      <td>McDonald's</td>\n",
       "      <td>Fast food restaurant</td>\n",
       "      <td>13749 US-183 Hwy, Austin, TX 78750, United States</td>\n",
       "      <td>30.460718</td>\n",
       "      <td>-97.792874</td>\n",
       "      <td>1,240</td>\n",
       "      <td>5 days ago</td>\n",
       "      <td>Made a mobile order got to the speaker and che...</td>\n",
       "      <td>1 star</td>\n",
       "    </tr>\n",
       "    <tr>\n",
       "      <th>3</th>\n",
       "      <td>4</td>\n",
       "      <td>McDonald's</td>\n",
       "      <td>Fast food restaurant</td>\n",
       "      <td>13749 US-183 Hwy, Austin, TX 78750, United States</td>\n",
       "      <td>30.460718</td>\n",
       "      <td>-97.792874</td>\n",
       "      <td>1,240</td>\n",
       "      <td>a month ago</td>\n",
       "      <td>My mc. Crispy chicken sandwich was ï¿½ï¿½ï¿½ï¿...</td>\n",
       "      <td>5 stars</td>\n",
       "    </tr>\n",
       "    <tr>\n",
       "      <th>4</th>\n",
       "      <td>5</td>\n",
       "      <td>McDonald's</td>\n",
       "      <td>Fast food restaurant</td>\n",
       "      <td>13749 US-183 Hwy, Austin, TX 78750, United States</td>\n",
       "      <td>30.460718</td>\n",
       "      <td>-97.792874</td>\n",
       "      <td>1,240</td>\n",
       "      <td>2 months ago</td>\n",
       "      <td>I repeat my order 3 times in the drive thru, a...</td>\n",
       "      <td>1 star</td>\n",
       "    </tr>\n",
       "    <tr>\n",
       "      <th>5</th>\n",
       "      <td>6</td>\n",
       "      <td>McDonald's</td>\n",
       "      <td>Fast food restaurant</td>\n",
       "      <td>13749 US-183 Hwy, Austin, TX 78750, United States</td>\n",
       "      <td>30.460718</td>\n",
       "      <td>-97.792874</td>\n",
       "      <td>1,240</td>\n",
       "      <td>3 weeks ago</td>\n",
       "      <td>I work for door dash and they locked us all ou...</td>\n",
       "      <td>1 star</td>\n",
       "    </tr>\n",
       "    <tr>\n",
       "      <th>6</th>\n",
       "      <td>7</td>\n",
       "      <td>McDonald's</td>\n",
       "      <td>Fast food restaurant</td>\n",
       "      <td>13749 US-183 Hwy, Austin, TX 78750, United States</td>\n",
       "      <td>30.460718</td>\n",
       "      <td>-97.792874</td>\n",
       "      <td>1,240</td>\n",
       "      <td>3 months ago</td>\n",
       "      <td>If I  could give this location a zero on custo...</td>\n",
       "      <td>1 star</td>\n",
       "    </tr>\n",
       "    <tr>\n",
       "      <th>7</th>\n",
       "      <td>8</td>\n",
       "      <td>McDonald's</td>\n",
       "      <td>Fast food restaurant</td>\n",
       "      <td>13749 US-183 Hwy, Austin, TX 78750, United States</td>\n",
       "      <td>30.460718</td>\n",
       "      <td>-97.792874</td>\n",
       "      <td>1,240</td>\n",
       "      <td>a year ago</td>\n",
       "      <td>Came in and ordered a Large coffee w/no ice. T...</td>\n",
       "      <td>1 star</td>\n",
       "    </tr>\n",
       "    <tr>\n",
       "      <th>8</th>\n",
       "      <td>9</td>\n",
       "      <td>McDonald's</td>\n",
       "      <td>Fast food restaurant</td>\n",
       "      <td>13749 US-183 Hwy, Austin, TX 78750, United States</td>\n",
       "      <td>30.460718</td>\n",
       "      <td>-97.792874</td>\n",
       "      <td>1,240</td>\n",
       "      <td>3 months ago</td>\n",
       "      <td>Went thru drive thru. Ordered. Getting home no...</td>\n",
       "      <td>1 star</td>\n",
       "    </tr>\n",
       "    <tr>\n",
       "      <th>9</th>\n",
       "      <td>10</td>\n",
       "      <td>McDonald's</td>\n",
       "      <td>Fast food restaurant</td>\n",
       "      <td>13749 US-183 Hwy, Austin, TX 78750, United States</td>\n",
       "      <td>30.460718</td>\n",
       "      <td>-97.792874</td>\n",
       "      <td>1,240</td>\n",
       "      <td>3 months ago</td>\n",
       "      <td>I'm not really a huge fan of fast food, but I ...</td>\n",
       "      <td>4 stars</td>\n",
       "    </tr>\n",
       "  </tbody>\n",
       "</table>\n",
       "</div>"
      ],
      "text/plain": [
       "   reviewer_id  store_name              category  \\\n",
       "0            1  McDonald's  Fast food restaurant   \n",
       "1            2  McDonald's  Fast food restaurant   \n",
       "2            3  McDonald's  Fast food restaurant   \n",
       "3            4  McDonald's  Fast food restaurant   \n",
       "4            5  McDonald's  Fast food restaurant   \n",
       "5            6  McDonald's  Fast food restaurant   \n",
       "6            7  McDonald's  Fast food restaurant   \n",
       "7            8  McDonald's  Fast food restaurant   \n",
       "8            9  McDonald's  Fast food restaurant   \n",
       "9           10  McDonald's  Fast food restaurant   \n",
       "\n",
       "                                       store_address  latitude   longitude  \\\n",
       "0  13749 US-183 Hwy, Austin, TX 78750, United States  30.460718 -97.792874   \n",
       "1  13749 US-183 Hwy, Austin, TX 78750, United States  30.460718 -97.792874   \n",
       "2  13749 US-183 Hwy, Austin, TX 78750, United States  30.460718 -97.792874   \n",
       "3  13749 US-183 Hwy, Austin, TX 78750, United States  30.460718 -97.792874   \n",
       "4  13749 US-183 Hwy, Austin, TX 78750, United States  30.460718 -97.792874   \n",
       "5  13749 US-183 Hwy, Austin, TX 78750, United States  30.460718 -97.792874   \n",
       "6  13749 US-183 Hwy, Austin, TX 78750, United States  30.460718 -97.792874   \n",
       "7  13749 US-183 Hwy, Austin, TX 78750, United States  30.460718 -97.792874   \n",
       "8  13749 US-183 Hwy, Austin, TX 78750, United States  30.460718 -97.792874   \n",
       "9  13749 US-183 Hwy, Austin, TX 78750, United States  30.460718 -97.792874   \n",
       "\n",
       "  rating_count   review_time  \\\n",
       "0        1,240  3 months ago   \n",
       "1        1,240    5 days ago   \n",
       "2        1,240    5 days ago   \n",
       "3        1,240   a month ago   \n",
       "4        1,240  2 months ago   \n",
       "5        1,240   3 weeks ago   \n",
       "6        1,240  3 months ago   \n",
       "7        1,240    a year ago   \n",
       "8        1,240  3 months ago   \n",
       "9        1,240  3 months ago   \n",
       "\n",
       "                                              review   rating  \n",
       "0  Why does it look like someone spit on my food?...   1 star  \n",
       "1  It'd McDonalds. It is what it is as far as the...  4 stars  \n",
       "2  Made a mobile order got to the speaker and che...   1 star  \n",
       "3  My mc. Crispy chicken sandwich was ï¿½ï¿½ï¿½ï¿...  5 stars  \n",
       "4  I repeat my order 3 times in the drive thru, a...   1 star  \n",
       "5  I work for door dash and they locked us all ou...   1 star  \n",
       "6  If I  could give this location a zero on custo...   1 star  \n",
       "7  Came in and ordered a Large coffee w/no ice. T...   1 star  \n",
       "8  Went thru drive thru. Ordered. Getting home no...   1 star  \n",
       "9  I'm not really a huge fan of fast food, but I ...  4 stars  "
      ]
     },
     "execution_count": 25,
     "metadata": {},
     "output_type": "execute_result"
    }
   ],
   "source": [
    "mcd.head(10)"
   ]
  },
  {
   "cell_type": "code",
   "execution_count": 26,
   "id": "e0c8fc55",
   "metadata": {
    "execution": {
     "iopub.execute_input": "2023-06-27T11:53:23.643921Z",
     "iopub.status.busy": "2023-06-27T11:53:23.643169Z",
     "iopub.status.idle": "2023-06-27T11:53:23.661645Z",
     "shell.execute_reply": "2023-06-27T11:53:23.660804Z"
    },
    "papermill": {
     "duration": 0.033074,
     "end_time": "2023-06-27T11:53:23.663614",
     "exception": false,
     "start_time": "2023-06-27T11:53:23.630540",
     "status": "completed"
    },
    "tags": []
   },
   "outputs": [
    {
     "data": {
      "text/html": [
       "<div>\n",
       "<style scoped>\n",
       "    .dataframe tbody tr th:only-of-type {\n",
       "        vertical-align: middle;\n",
       "    }\n",
       "\n",
       "    .dataframe tbody tr th {\n",
       "        vertical-align: top;\n",
       "    }\n",
       "\n",
       "    .dataframe thead th {\n",
       "        text-align: right;\n",
       "    }\n",
       "</style>\n",
       "<table border=\"1\" class=\"dataframe\">\n",
       "  <thead>\n",
       "    <tr style=\"text-align: right;\">\n",
       "      <th></th>\n",
       "      <th>reviewer_id</th>\n",
       "      <th>store_name</th>\n",
       "      <th>category</th>\n",
       "      <th>store_address</th>\n",
       "      <th>latitude</th>\n",
       "      <th>longitude</th>\n",
       "      <th>rating_count</th>\n",
       "      <th>review_time</th>\n",
       "      <th>review</th>\n",
       "      <th>rating</th>\n",
       "    </tr>\n",
       "  </thead>\n",
       "  <tbody>\n",
       "    <tr>\n",
       "      <th>8649</th>\n",
       "      <td>8650</td>\n",
       "      <td>McDonald's</td>\n",
       "      <td>Fast food restaurant</td>\n",
       "      <td>210 5th S, Salt Lake City, UT 84106, United St...</td>\n",
       "      <td>40.759057</td>\n",
       "      <td>-111.897383</td>\n",
       "      <td>3,243</td>\n",
       "      <td>a year ago</td>\n",
       "      <td>I love nothing more than McDonalds fries. Itï¿...</td>\n",
       "      <td>1 star</td>\n",
       "    </tr>\n",
       "    <tr>\n",
       "      <th>6154</th>\n",
       "      <td>6155</td>\n",
       "      <td>McDonald's</td>\n",
       "      <td>Fast food restaurant</td>\n",
       "      <td>490 8th Ave, New York, NY 10001, United States</td>\n",
       "      <td>40.752529</td>\n",
       "      <td>-73.992876</td>\n",
       "      <td>3,902</td>\n",
       "      <td>a year ago</td>\n",
       "      <td>This is one of the busiest stores in the city....</td>\n",
       "      <td>2 stars</td>\n",
       "    </tr>\n",
       "    <tr>\n",
       "      <th>22922</th>\n",
       "      <td>22923</td>\n",
       "      <td>McDonald's</td>\n",
       "      <td>Fast food restaurant</td>\n",
       "      <td>5725 W Irlo Bronson Memorial Hwy, Kissimmee, F...</td>\n",
       "      <td>28.333508</td>\n",
       "      <td>-81.513738</td>\n",
       "      <td>5,566</td>\n",
       "      <td>10 months ago</td>\n",
       "      <td>Food was really fresh and tasty.  Staff was ve...</td>\n",
       "      <td>5 stars</td>\n",
       "    </tr>\n",
       "    <tr>\n",
       "      <th>18439</th>\n",
       "      <td>18440</td>\n",
       "      <td>McDonald's</td>\n",
       "      <td>Fast food restaurant</td>\n",
       "      <td>1100 N US Hwy 377, Roanoke, TX 76262, United S...</td>\n",
       "      <td>33.009318</td>\n",
       "      <td>-97.222925</td>\n",
       "      <td>998</td>\n",
       "      <td>4 years ago</td>\n",
       "      <td>My food was fresh,  right on time.</td>\n",
       "      <td>5 stars</td>\n",
       "    </tr>\n",
       "    <tr>\n",
       "      <th>28200</th>\n",
       "      <td>28201</td>\n",
       "      <td>McDonald's</td>\n",
       "      <td>Fast food restaurant</td>\n",
       "      <td>5725 W Irlo Bronson Memorial Hwy, Kissimmee, F...</td>\n",
       "      <td>28.333508</td>\n",
       "      <td>-81.513738</td>\n",
       "      <td>5,567</td>\n",
       "      <td>a year ago</td>\n",
       "      <td>DOOR IS LOCKED EVERY SINGLE DAY!\\nHIGLY RUDE A...</td>\n",
       "      <td>1 star</td>\n",
       "    </tr>\n",
       "    <tr>\n",
       "      <th>30931</th>\n",
       "      <td>30932</td>\n",
       "      <td>McDonald's</td>\n",
       "      <td>Fast food restaurant</td>\n",
       "      <td>9814 International Dr, Orlando, FL 32819, Unit...</td>\n",
       "      <td>28.423814</td>\n",
       "      <td>-81.461242</td>\n",
       "      <td>5,468</td>\n",
       "      <td>3 years ago</td>\n",
       "      <td>Great service, went the extra mile without pro...</td>\n",
       "      <td>5 stars</td>\n",
       "    </tr>\n",
       "    <tr>\n",
       "      <th>6828</th>\n",
       "      <td>6829</td>\n",
       "      <td>McDonald's</td>\n",
       "      <td>Fast food restaurant</td>\n",
       "      <td>490 8th Ave, New York, NY 10001, United States</td>\n",
       "      <td>40.752529</td>\n",
       "      <td>-73.992876</td>\n",
       "      <td>3,902</td>\n",
       "      <td>2 years ago</td>\n",
       "      <td>Finely a place that uses Hot milk for my coffee</td>\n",
       "      <td>5 stars</td>\n",
       "    </tr>\n",
       "    <tr>\n",
       "      <th>14409</th>\n",
       "      <td>14410</td>\n",
       "      <td>McDonald's</td>\n",
       "      <td>Fast food restaurant</td>\n",
       "      <td>25200 I-10 Lot 2, San Antonio, TX 78257, Unite...</td>\n",
       "      <td>29.676267</td>\n",
       "      <td>-98.634580</td>\n",
       "      <td>1,460</td>\n",
       "      <td>3 years ago</td>\n",
       "      <td>At lunch time fast and great service</td>\n",
       "      <td>5 stars</td>\n",
       "    </tr>\n",
       "    <tr>\n",
       "      <th>12499</th>\n",
       "      <td>12500</td>\n",
       "      <td>McDonald's</td>\n",
       "      <td>Fast food restaurant</td>\n",
       "      <td>1044 US-11, Champlain, NY 12919, United States</td>\n",
       "      <td>44.981410</td>\n",
       "      <td>-73.459820</td>\n",
       "      <td>1,306</td>\n",
       "      <td>3 years ago</td>\n",
       "      <td>Tookos with impact na ideology</td>\n",
       "      <td>5 stars</td>\n",
       "    </tr>\n",
       "    <tr>\n",
       "      <th>23337</th>\n",
       "      <td>23338</td>\n",
       "      <td>McDonald's</td>\n",
       "      <td>Fast food restaurant</td>\n",
       "      <td>5725 W Irlo Bronson Memorial Hwy, Kissimmee, F...</td>\n",
       "      <td>28.333508</td>\n",
       "      <td>-81.513738</td>\n",
       "      <td>5,566</td>\n",
       "      <td>5 years ago</td>\n",
       "      <td>Having kiosks, instead of human cashier, reall...</td>\n",
       "      <td>2 stars</td>\n",
       "    </tr>\n",
       "  </tbody>\n",
       "</table>\n",
       "</div>"
      ],
      "text/plain": [
       "       reviewer_id  store_name              category  \\\n",
       "8649          8650  McDonald's  Fast food restaurant   \n",
       "6154          6155  McDonald's  Fast food restaurant   \n",
       "22922        22923  McDonald's  Fast food restaurant   \n",
       "18439        18440  McDonald's  Fast food restaurant   \n",
       "28200        28201  McDonald's  Fast food restaurant   \n",
       "30931        30932  McDonald's  Fast food restaurant   \n",
       "6828          6829  McDonald's  Fast food restaurant   \n",
       "14409        14410  McDonald's  Fast food restaurant   \n",
       "12499        12500  McDonald's  Fast food restaurant   \n",
       "23337        23338  McDonald's  Fast food restaurant   \n",
       "\n",
       "                                           store_address  latitude   \\\n",
       "8649   210 5th S, Salt Lake City, UT 84106, United St...  40.759057   \n",
       "6154      490 8th Ave, New York, NY 10001, United States  40.752529   \n",
       "22922  5725 W Irlo Bronson Memorial Hwy, Kissimmee, F...  28.333508   \n",
       "18439  1100 N US Hwy 377, Roanoke, TX 76262, United S...  33.009318   \n",
       "28200  5725 W Irlo Bronson Memorial Hwy, Kissimmee, F...  28.333508   \n",
       "30931  9814 International Dr, Orlando, FL 32819, Unit...  28.423814   \n",
       "6828      490 8th Ave, New York, NY 10001, United States  40.752529   \n",
       "14409  25200 I-10 Lot 2, San Antonio, TX 78257, Unite...  29.676267   \n",
       "12499     1044 US-11, Champlain, NY 12919, United States  44.981410   \n",
       "23337  5725 W Irlo Bronson Memorial Hwy, Kissimmee, F...  28.333508   \n",
       "\n",
       "        longitude rating_count    review_time  \\\n",
       "8649  -111.897383        3,243     a year ago   \n",
       "6154   -73.992876        3,902     a year ago   \n",
       "22922  -81.513738        5,566  10 months ago   \n",
       "18439  -97.222925          998    4 years ago   \n",
       "28200  -81.513738        5,567     a year ago   \n",
       "30931  -81.461242        5,468    3 years ago   \n",
       "6828   -73.992876        3,902    2 years ago   \n",
       "14409  -98.634580        1,460    3 years ago   \n",
       "12499  -73.459820        1,306    3 years ago   \n",
       "23337  -81.513738        5,566    5 years ago   \n",
       "\n",
       "                                                  review   rating  \n",
       "8649   I love nothing more than McDonalds fries. Itï¿...   1 star  \n",
       "6154   This is one of the busiest stores in the city....  2 stars  \n",
       "22922  Food was really fresh and tasty.  Staff was ve...  5 stars  \n",
       "18439                 My food was fresh,  right on time.  5 stars  \n",
       "28200  DOOR IS LOCKED EVERY SINGLE DAY!\\nHIGLY RUDE A...   1 star  \n",
       "30931  Great service, went the extra mile without pro...  5 stars  \n",
       "6828     Finely a place that uses Hot milk for my coffee  5 stars  \n",
       "14409               At lunch time fast and great service  5 stars  \n",
       "12499                     Tookos with impact na ideology  5 stars  \n",
       "23337  Having kiosks, instead of human cashier, reall...  2 stars  "
      ]
     },
     "execution_count": 26,
     "metadata": {},
     "output_type": "execute_result"
    }
   ],
   "source": [
    "mcd.sample(10)"
   ]
  },
  {
   "cell_type": "code",
   "execution_count": 27,
   "id": "a35c577f",
   "metadata": {
    "execution": {
     "iopub.execute_input": "2023-06-27T11:53:23.690033Z",
     "iopub.status.busy": "2023-06-27T11:53:23.689200Z",
     "iopub.status.idle": "2023-06-27T11:53:23.774077Z",
     "shell.execute_reply": "2023-06-27T11:53:23.773088Z"
    },
    "papermill": {
     "duration": 0.100817,
     "end_time": "2023-06-27T11:53:23.776566",
     "exception": false,
     "start_time": "2023-06-27T11:53:23.675749",
     "status": "completed"
    },
    "tags": []
   },
   "outputs": [
    {
     "name": "stdout",
     "output_type": "stream",
     "text": [
      "<class 'pandas.core.frame.DataFrame'>\n",
      "RangeIndex: 33396 entries, 0 to 33395\n",
      "Data columns (total 10 columns):\n",
      " #   Column         Non-Null Count  Dtype  \n",
      "---  ------         --------------  -----  \n",
      " 0   reviewer_id    33396 non-null  int64  \n",
      " 1   store_name     33396 non-null  object \n",
      " 2   category       33396 non-null  object \n",
      " 3   store_address  33396 non-null  object \n",
      " 4   latitude       32736 non-null  float64\n",
      " 5   longitude      32736 non-null  float64\n",
      " 6   rating_count   33396 non-null  object \n",
      " 7   review_time    33396 non-null  object \n",
      " 8   review         33396 non-null  object \n",
      " 9   rating         33396 non-null  object \n",
      "dtypes: float64(2), int64(1), object(7)\n",
      "memory usage: 2.5+ MB\n"
     ]
    }
   ],
   "source": [
    "mcd.info()"
   ]
  },
  {
   "cell_type": "markdown",
   "id": "bcec2c04",
   "metadata": {
    "papermill": {
     "duration": 0.01447,
     "end_time": "2023-06-27T11:53:23.805335",
     "exception": false,
     "start_time": "2023-06-27T11:53:23.790865",
     "status": "completed"
    },
    "tags": []
   },
   "source": [
    "* <h2>Sentiment Score Calculation:</h2>\n",
    "I utilized the SentimentIntensityAnalyzer, a popular sentiment analysis tool, to calculate sentiment scores for each review. This tool assigns a sentiment score based on the text's positivity, negativity, and neutrality."
   ]
  },
  {
   "cell_type": "code",
   "execution_count": 28,
   "id": "f99e69ed",
   "metadata": {
    "execution": {
     "iopub.execute_input": "2023-06-27T11:53:23.831261Z",
     "iopub.status.busy": "2023-06-27T11:53:23.830486Z",
     "iopub.status.idle": "2023-06-27T11:53:23.850622Z",
     "shell.execute_reply": "2023-06-27T11:53:23.849759Z"
    },
    "papermill": {
     "duration": 0.035011,
     "end_time": "2023-06-27T11:53:23.852593",
     "exception": false,
     "start_time": "2023-06-27T11:53:23.817582",
     "status": "completed"
    },
    "tags": []
   },
   "outputs": [],
   "source": [
    "sia = SentimentIntensityAnalyzer()"
   ]
  },
  {
   "cell_type": "code",
   "execution_count": 30,
   "id": "dc863b75",
   "metadata": {
    "execution": {
     "iopub.execute_input": "2023-06-27T11:53:23.878702Z",
     "iopub.status.busy": "2023-06-27T11:53:23.877829Z",
     "iopub.status.idle": "2023-06-27T11:53:34.472613Z",
     "shell.execute_reply": "2023-06-27T11:53:34.471648Z"
    },
    "papermill": {
     "duration": 10.610265,
     "end_time": "2023-06-27T11:53:34.475052",
     "exception": false,
     "start_time": "2023-06-27T11:53:23.864787",
     "status": "completed"
    },
    "tags": []
   },
   "outputs": [],
   "source": [
    "# Performing sentiment analysis on each review\n",
    "sentiments = []\n",
    "for review in mcd['review']:\n",
    "    sentiment = sia.polarity_scores(review)\n",
    "    sentiments.append(sentiment)"
   ]
  },
  {
   "cell_type": "markdown",
   "id": "64d72f15",
   "metadata": {
    "papermill": {
     "duration": 0.012016,
     "end_time": "2023-06-27T11:53:34.499507",
     "exception": false,
     "start_time": "2023-06-27T11:53:34.487491",
     "status": "completed"
    },
    "tags": []
   },
   "source": [
    "* <h2>Sentiment Classification:</h2>\n",
    "Based on the compound score, I classified the reviews into different sentiment categories. For instance, if the compound score was above a certain threshold (e.g., 0.5), I labeled the review as positive. Conversely, if the compound score was below another threshold (e.g., -0.5), I labeled it as negative. Reviews with compound scores within the intermediate range were considered neutral.\n"
   ]
  },
  {
   "cell_type": "code",
   "execution_count": 31,
   "id": "133f4261",
   "metadata": {
    "execution": {
     "iopub.execute_input": "2023-06-27T11:53:34.524928Z",
     "iopub.status.busy": "2023-06-27T11:53:34.524590Z",
     "iopub.status.idle": "2023-06-27T11:53:34.543124Z",
     "shell.execute_reply": "2023-06-27T11:53:34.542239Z"
    },
    "papermill": {
     "duration": 0.035818,
     "end_time": "2023-06-27T11:53:34.547255",
     "exception": false,
     "start_time": "2023-06-27T11:53:34.511437",
     "status": "completed"
    },
    "tags": []
   },
   "outputs": [],
   "source": [
    "sentiment_labels = []\n",
    "for sentiment in sentiments:\n",
    "    compound_score = sentiment['compound']\n",
    "    if compound_score >= 0.05:\n",
    "        sentiment_labels.append('Positive')\n",
    "    elif compound_score <= -0.05:\n",
    "        sentiment_labels.append('Negative')\n",
    "    else:\n",
    "        sentiment_labels.append('Neutral')"
   ]
  },
  {
   "cell_type": "code",
   "execution_count": 32,
   "id": "f14ae1c8",
   "metadata": {
    "execution": {
     "iopub.execute_input": "2023-06-27T11:53:34.573910Z",
     "iopub.status.busy": "2023-06-27T11:53:34.573612Z",
     "iopub.status.idle": "2023-06-27T11:53:34.579941Z",
     "shell.execute_reply": "2023-06-27T11:53:34.579038Z"
    },
    "papermill": {
     "duration": 0.021541,
     "end_time": "2023-06-27T11:53:34.581989",
     "exception": false,
     "start_time": "2023-06-27T11:53:34.560448",
     "status": "completed"
    },
    "tags": []
   },
   "outputs": [],
   "source": [
    "# Add the sentiment labels to the DataFrame\n",
    "mcd['sentiment'] = sentiment_labels"
   ]
  },
  {
   "cell_type": "code",
   "execution_count": 33,
   "id": "a5281cca",
   "metadata": {
    "execution": {
     "iopub.execute_input": "2023-06-27T11:53:34.607245Z",
     "iopub.status.busy": "2023-06-27T11:53:34.606971Z",
     "iopub.status.idle": "2023-06-27T11:53:34.622164Z",
     "shell.execute_reply": "2023-06-27T11:53:34.621178Z"
    },
    "papermill": {
     "duration": 0.030469,
     "end_time": "2023-06-27T11:53:34.624381",
     "exception": false,
     "start_time": "2023-06-27T11:53:34.593912",
     "status": "completed"
    },
    "tags": []
   },
   "outputs": [
    {
     "data": {
      "text/html": [
       "<div>\n",
       "<style scoped>\n",
       "    .dataframe tbody tr th:only-of-type {\n",
       "        vertical-align: middle;\n",
       "    }\n",
       "\n",
       "    .dataframe tbody tr th {\n",
       "        vertical-align: top;\n",
       "    }\n",
       "\n",
       "    .dataframe thead th {\n",
       "        text-align: right;\n",
       "    }\n",
       "</style>\n",
       "<table border=\"1\" class=\"dataframe\">\n",
       "  <thead>\n",
       "    <tr style=\"text-align: right;\">\n",
       "      <th></th>\n",
       "      <th>review</th>\n",
       "      <th>sentiment</th>\n",
       "    </tr>\n",
       "  </thead>\n",
       "  <tbody>\n",
       "    <tr>\n",
       "      <th>0</th>\n",
       "      <td>Why does it look like someone spit on my food?...</td>\n",
       "      <td>Positive</td>\n",
       "    </tr>\n",
       "    <tr>\n",
       "      <th>1</th>\n",
       "      <td>It'd McDonalds. It is what it is as far as the...</td>\n",
       "      <td>Positive</td>\n",
       "    </tr>\n",
       "    <tr>\n",
       "      <th>2</th>\n",
       "      <td>Made a mobile order got to the speaker and che...</td>\n",
       "      <td>Negative</td>\n",
       "    </tr>\n",
       "    <tr>\n",
       "      <th>3</th>\n",
       "      <td>My mc. Crispy chicken sandwich was ï¿½ï¿½ï¿½ï¿...</td>\n",
       "      <td>Neutral</td>\n",
       "    </tr>\n",
       "    <tr>\n",
       "      <th>4</th>\n",
       "      <td>I repeat my order 3 times in the drive thru, a...</td>\n",
       "      <td>Negative</td>\n",
       "    </tr>\n",
       "    <tr>\n",
       "      <th>...</th>\n",
       "      <td>...</td>\n",
       "      <td>...</td>\n",
       "    </tr>\n",
       "    <tr>\n",
       "      <th>33391</th>\n",
       "      <td>They treated me very badly.</td>\n",
       "      <td>Negative</td>\n",
       "    </tr>\n",
       "    <tr>\n",
       "      <th>33392</th>\n",
       "      <td>The service is very good</td>\n",
       "      <td>Positive</td>\n",
       "    </tr>\n",
       "    <tr>\n",
       "      <th>33393</th>\n",
       "      <td>To remove hunger is enough</td>\n",
       "      <td>Negative</td>\n",
       "    </tr>\n",
       "    <tr>\n",
       "      <th>33394</th>\n",
       "      <td>It's good, but lately it has become very expen...</td>\n",
       "      <td>Positive</td>\n",
       "    </tr>\n",
       "    <tr>\n",
       "      <th>33395</th>\n",
       "      <td>they took good care of me</td>\n",
       "      <td>Positive</td>\n",
       "    </tr>\n",
       "  </tbody>\n",
       "</table>\n",
       "<p>33396 rows × 2 columns</p>\n",
       "</div>"
      ],
      "text/plain": [
       "                                                  review sentiment\n",
       "0      Why does it look like someone spit on my food?...  Positive\n",
       "1      It'd McDonalds. It is what it is as far as the...  Positive\n",
       "2      Made a mobile order got to the speaker and che...  Negative\n",
       "3      My mc. Crispy chicken sandwich was ï¿½ï¿½ï¿½ï¿...   Neutral\n",
       "4      I repeat my order 3 times in the drive thru, a...  Negative\n",
       "...                                                  ...       ...\n",
       "33391                        They treated me very badly.  Negative\n",
       "33392                           The service is very good  Positive\n",
       "33393                         To remove hunger is enough  Negative\n",
       "33394  It's good, but lately it has become very expen...  Positive\n",
       "33395                          they took good care of me  Positive\n",
       "\n",
       "[33396 rows x 2 columns]"
      ]
     },
     "execution_count": 33,
     "metadata": {},
     "output_type": "execute_result"
    }
   ],
   "source": [
    "mcd[['review', 'sentiment']]"
   ]
  },
  {
   "cell_type": "code",
   "execution_count": 34,
   "id": "951fd7ca",
   "metadata": {
    "execution": {
     "iopub.execute_input": "2023-06-27T11:53:34.698482Z",
     "iopub.status.busy": "2023-06-27T11:53:34.698220Z",
     "iopub.status.idle": "2023-06-27T11:53:34.707549Z",
     "shell.execute_reply": "2023-06-27T11:53:34.706752Z"
    },
    "papermill": {
     "duration": 0.024471,
     "end_time": "2023-06-27T11:53:34.709559",
     "exception": false,
     "start_time": "2023-06-27T11:53:34.685088",
     "status": "completed"
    },
    "tags": []
   },
   "outputs": [],
   "source": [
    "X = mcd['review']\n",
    "y = mcd['sentiment']\n",
    "X_train, X_test, y_train, y_test = train_test_split(X, y, test_size=0.2, random_state=42)"
   ]
  },
  {
   "cell_type": "markdown",
   "id": "96af3ed4",
   "metadata": {
    "papermill": {
     "duration": 0.011943,
     "end_time": "2023-06-27T11:53:34.733961",
     "exception": false,
     "start_time": "2023-06-27T11:53:34.722018",
     "status": "completed"
    },
    "tags": []
   },
   "source": [
    "2. <h2>Vectorization:</h2>\n",
    "I applied vectorization techniques to convert the textual data into a numerical representation suitable for machine learning algorithms. This process involved transforming the reviews into a format that captures their features and patterns effectively."
   ]
  },
  {
   "cell_type": "code",
   "execution_count": 35,
   "id": "6afcbb38",
   "metadata": {
    "execution": {
     "iopub.execute_input": "2023-06-27T11:53:34.759520Z",
     "iopub.status.busy": "2023-06-27T11:53:34.759264Z",
     "iopub.status.idle": "2023-06-27T11:53:35.953303Z",
     "shell.execute_reply": "2023-06-27T11:53:35.952337Z"
    },
    "papermill": {
     "duration": 1.209705,
     "end_time": "2023-06-27T11:53:35.955985",
     "exception": false,
     "start_time": "2023-06-27T11:53:34.746280",
     "status": "completed"
    },
    "tags": []
   },
   "outputs": [],
   "source": [
    "vectorizer = TfidfVectorizer()\n",
    "X_train_tfidf = vectorizer.fit_transform(X_train)\n",
    "X_test_tfidf = vectorizer.transform(X_test)"
   ]
  },
  {
   "cell_type": "markdown",
   "id": "745bf855",
   "metadata": {
    "papermill": {
     "duration": 0.016885,
     "end_time": "2023-06-27T11:53:35.990682",
     "exception": false,
     "start_time": "2023-06-27T11:53:35.973797",
     "status": "completed"
    },
    "tags": []
   },
   "source": [
    "3. <h2>Model Training (Support Vector Classifier):</h2>\n",
    "I utilized the Support Vector Classifier (SVC) algorithm to train my sentiment analysis model. SVC is a powerful machine learning algorithm commonly used for classification tasks. By training the model on the labeled training data, it learned to predict the sentiment of reviews based on their features."
   ]
  },
  {
   "cell_type": "code",
   "execution_count": 36,
   "id": "7e108a9f",
   "metadata": {
    "execution": {
     "iopub.execute_input": "2023-06-27T11:53:36.026652Z",
     "iopub.status.busy": "2023-06-27T11:53:36.025981Z",
     "iopub.status.idle": "2023-06-27T11:56:08.361730Z",
     "shell.execute_reply": "2023-06-27T11:56:08.360814Z"
    },
    "papermill": {
     "duration": 152.368337,
     "end_time": "2023-06-27T11:56:08.376262",
     "exception": false,
     "start_time": "2023-06-27T11:53:36.007925",
     "status": "completed"
    },
    "tags": []
   },
   "outputs": [
    {
     "data": {
      "text/html": [
       "<style>#sk-container-id-1 {color: black;background-color: white;}#sk-container-id-1 pre{padding: 0;}#sk-container-id-1 div.sk-toggleable {background-color: white;}#sk-container-id-1 label.sk-toggleable__label {cursor: pointer;display: block;width: 100%;margin-bottom: 0;padding: 0.3em;box-sizing: border-box;text-align: center;}#sk-container-id-1 label.sk-toggleable__label-arrow:before {content: \"▸\";float: left;margin-right: 0.25em;color: #696969;}#sk-container-id-1 label.sk-toggleable__label-arrow:hover:before {color: black;}#sk-container-id-1 div.sk-estimator:hover label.sk-toggleable__label-arrow:before {color: black;}#sk-container-id-1 div.sk-toggleable__content {max-height: 0;max-width: 0;overflow: hidden;text-align: left;background-color: #f0f8ff;}#sk-container-id-1 div.sk-toggleable__content pre {margin: 0.2em;color: black;border-radius: 0.25em;background-color: #f0f8ff;}#sk-container-id-1 input.sk-toggleable__control:checked~div.sk-toggleable__content {max-height: 200px;max-width: 100%;overflow: auto;}#sk-container-id-1 input.sk-toggleable__control:checked~label.sk-toggleable__label-arrow:before {content: \"▾\";}#sk-container-id-1 div.sk-estimator input.sk-toggleable__control:checked~label.sk-toggleable__label {background-color: #d4ebff;}#sk-container-id-1 div.sk-label input.sk-toggleable__control:checked~label.sk-toggleable__label {background-color: #d4ebff;}#sk-container-id-1 input.sk-hidden--visually {border: 0;clip: rect(1px 1px 1px 1px);clip: rect(1px, 1px, 1px, 1px);height: 1px;margin: -1px;overflow: hidden;padding: 0;position: absolute;width: 1px;}#sk-container-id-1 div.sk-estimator {font-family: monospace;background-color: #f0f8ff;border: 1px dotted black;border-radius: 0.25em;box-sizing: border-box;margin-bottom: 0.5em;}#sk-container-id-1 div.sk-estimator:hover {background-color: #d4ebff;}#sk-container-id-1 div.sk-parallel-item::after {content: \"\";width: 100%;border-bottom: 1px solid gray;flex-grow: 1;}#sk-container-id-1 div.sk-label:hover label.sk-toggleable__label {background-color: #d4ebff;}#sk-container-id-1 div.sk-serial::before {content: \"\";position: absolute;border-left: 1px solid gray;box-sizing: border-box;top: 0;bottom: 0;left: 50%;z-index: 0;}#sk-container-id-1 div.sk-serial {display: flex;flex-direction: column;align-items: center;background-color: white;padding-right: 0.2em;padding-left: 0.2em;position: relative;}#sk-container-id-1 div.sk-item {position: relative;z-index: 1;}#sk-container-id-1 div.sk-parallel {display: flex;align-items: stretch;justify-content: center;background-color: white;position: relative;}#sk-container-id-1 div.sk-item::before, #sk-container-id-1 div.sk-parallel-item::before {content: \"\";position: absolute;border-left: 1px solid gray;box-sizing: border-box;top: 0;bottom: 0;left: 50%;z-index: -1;}#sk-container-id-1 div.sk-parallel-item {display: flex;flex-direction: column;z-index: 1;position: relative;background-color: white;}#sk-container-id-1 div.sk-parallel-item:first-child::after {align-self: flex-end;width: 50%;}#sk-container-id-1 div.sk-parallel-item:last-child::after {align-self: flex-start;width: 50%;}#sk-container-id-1 div.sk-parallel-item:only-child::after {width: 0;}#sk-container-id-1 div.sk-dashed-wrapped {border: 1px dashed gray;margin: 0 0.4em 0.5em 0.4em;box-sizing: border-box;padding-bottom: 0.4em;background-color: white;}#sk-container-id-1 div.sk-label label {font-family: monospace;font-weight: bold;display: inline-block;line-height: 1.2em;}#sk-container-id-1 div.sk-label-container {text-align: center;}#sk-container-id-1 div.sk-container {/* jupyter's `normalize.less` sets `[hidden] { display: none; }` but bootstrap.min.css set `[hidden] { display: none !important; }` so we also need the `!important` here to be able to override the default hidden behavior on the sphinx rendered scikit-learn.org. See: https://github.com/scikit-learn/scikit-learn/issues/21755 */display: inline-block !important;position: relative;}#sk-container-id-1 div.sk-text-repr-fallback {display: none;}</style><div id=\"sk-container-id-1\" class=\"sk-top-container\"><div class=\"sk-text-repr-fallback\"><pre>SVC()</pre><b>In a Jupyter environment, please rerun this cell to show the HTML representation or trust the notebook. <br />On GitHub, the HTML representation is unable to render, please try loading this page with nbviewer.org.</b></div><div class=\"sk-container\" hidden><div class=\"sk-item\"><div class=\"sk-estimator sk-toggleable\"><input class=\"sk-toggleable__control sk-hidden--visually\" id=\"sk-estimator-id-1\" type=\"checkbox\" checked><label for=\"sk-estimator-id-1\" class=\"sk-toggleable__label sk-toggleable__label-arrow\">SVC</label><div class=\"sk-toggleable__content\"><pre>SVC()</pre></div></div></div></div></div>"
      ],
      "text/plain": [
       "SVC()"
      ]
     },
     "execution_count": 36,
     "metadata": {},
     "output_type": "execute_result"
    }
   ],
   "source": [
    "model = SVC()\n",
    "model.fit(X_train_tfidf, y_train)"
   ]
  },
  {
   "cell_type": "code",
   "execution_count": 37,
   "id": "f15ccbb6",
   "metadata": {
    "execution": {
     "iopub.execute_input": "2023-06-27T11:56:08.403098Z",
     "iopub.status.busy": "2023-06-27T11:56:08.402285Z",
     "iopub.status.idle": "2023-06-27T11:56:24.730922Z",
     "shell.execute_reply": "2023-06-27T11:56:24.729892Z"
    },
    "papermill": {
     "duration": 16.344586,
     "end_time": "2023-06-27T11:56:24.733356",
     "exception": false,
     "start_time": "2023-06-27T11:56:08.388770",
     "status": "completed"
    },
    "tags": []
   },
   "outputs": [],
   "source": [
    "y_pred = model.predict(X_test_tfidf)"
   ]
  },
  {
   "cell_type": "code",
   "execution_count": 38,
   "id": "b2bd957a",
   "metadata": {
    "execution": {
     "iopub.execute_input": "2023-06-27T11:56:24.760942Z",
     "iopub.status.busy": "2023-06-27T11:56:24.760603Z",
     "iopub.status.idle": "2023-06-27T11:56:25.062083Z",
     "shell.execute_reply": "2023-06-27T11:56:25.061022Z"
    },
    "papermill": {
     "duration": 0.317314,
     "end_time": "2023-06-27T11:56:25.064290",
     "exception": false,
     "start_time": "2023-06-27T11:56:24.746976",
     "status": "completed"
    },
    "tags": []
   },
   "outputs": [
    {
     "name": "stdout",
     "output_type": "stream",
     "text": [
      "Accuracy: 0.8868263473053892\n",
      "Classification Report:\n",
      "              precision    recall  f1-score   support\n",
      "\n",
      "    Negative       0.81      0.88      0.84      1937\n",
      "     Neutral       0.88      0.82      0.85      1244\n",
      "    Positive       0.93      0.91      0.92      3499\n",
      "\n",
      "    accuracy                           0.89      6680\n",
      "   macro avg       0.88      0.87      0.87      6680\n",
      "weighted avg       0.89      0.89      0.89      6680\n",
      "\n"
     ]
    }
   ],
   "source": [
    "accuracy = accuracy_score(y_test, y_pred)\n",
    "print(\"Accuracy:\", accuracy)\n",
    "print(\"Classification Report:\")\n",
    "print(classification_report(y_test, y_pred))"
   ]
  },
  {
   "cell_type": "markdown",
   "id": "c63add76",
   "metadata": {
    "papermill": {
     "duration": 0.012661,
     "end_time": "2023-06-27T11:56:25.090048",
     "exception": false,
     "start_time": "2023-06-27T11:56:25.077387",
     "status": "completed"
    },
    "tags": []
   },
   "source": [
    "4. <h2>Sentiment Prediction Function:</h2>\n",
    "To enhance usability, I created a function that takes a review as input and predicts its sentiment. This function utilizes the trained SVC model to analyze the input review's features and classify it as positive, negative, or neutral. The function provides the sentiment prediction as the output.\n"
   ]
  },
  {
   "cell_type": "code",
   "execution_count": 39,
   "id": "7d35a2ff",
   "metadata": {
    "execution": {
     "iopub.execute_input": "2023-06-27T11:56:25.117156Z",
     "iopub.status.busy": "2023-06-27T11:56:25.116134Z",
     "iopub.status.idle": "2023-06-27T11:56:25.121195Z",
     "shell.execute_reply": "2023-06-27T11:56:25.120358Z"
    },
    "papermill": {
     "duration": 0.020526,
     "end_time": "2023-06-27T11:56:25.123187",
     "exception": false,
     "start_time": "2023-06-27T11:56:25.102661",
     "status": "completed"
    },
    "tags": []
   },
   "outputs": [],
   "source": [
    "def predict_sentiment(review):\n",
    "    review_tfidf = vectorizer.transform([review])\n",
    "    sentiment = model.predict(review_tfidf)\n",
    "    return sentiment[0]"
   ]
  },
  {
   "cell_type": "markdown",
   "id": "d1ffb303",
   "metadata": {
    "papermill": {
     "duration": 0.012571,
     "end_time": "2023-06-27T11:56:25.148217",
     "exception": false,
     "start_time": "2023-06-27T11:56:25.135646",
     "status": "completed"
    },
    "tags": []
   },
   "source": [
    "5. <h2>Sample Testing:</h2>\n",
    "To assess the model's performance, I conducted sample testing."
   ]
  },
  {
   "cell_type": "code",
   "execution_count": 40,
   "id": "742d2957",
   "metadata": {
    "execution": {
     "iopub.execute_input": "2023-06-27T11:56:25.174983Z",
     "iopub.status.busy": "2023-06-27T11:56:25.174677Z",
     "iopub.status.idle": "2023-06-27T11:56:25.187483Z",
     "shell.execute_reply": "2023-06-27T11:56:25.186156Z"
    },
    "papermill": {
     "duration": 0.028785,
     "end_time": "2023-06-27T11:56:25.189532",
     "exception": false,
     "start_time": "2023-06-27T11:56:25.160747",
     "status": "completed"
    },
    "tags": []
   },
   "outputs": [
    {
     "name": "stdout",
     "output_type": "stream",
     "text": [
      "Predicted sentiment: Positive\n"
     ]
    }
   ],
   "source": [
    "new_review = \"This restaurant has excellent service and delicious food.\"\n",
    "predicted_sentiment = predict_sentiment(new_review)\n",
    "print(\"Predicted sentiment:\", predicted_sentiment)"
   ]
  },
  {
   "cell_type": "code",
   "execution_count": 41,
   "id": "9269d800",
   "metadata": {
    "execution": {
     "iopub.execute_input": "2023-06-27T11:56:25.215785Z",
     "iopub.status.busy": "2023-06-27T11:56:25.215523Z",
     "iopub.status.idle": "2023-06-27T11:56:25.226763Z",
     "shell.execute_reply": "2023-06-27T11:56:25.225715Z"
    },
    "papermill": {
     "duration": 0.026649,
     "end_time": "2023-06-27T11:56:25.228763",
     "exception": false,
     "start_time": "2023-06-27T11:56:25.202114",
     "status": "completed"
    },
    "tags": []
   },
   "outputs": [
    {
     "name": "stdout",
     "output_type": "stream",
     "text": [
      "Predicted sentiment: Negative\n"
     ]
    }
   ],
   "source": [
    "new_review2 = \"This restaurant sucks.\"\n",
    "predicted_sentiment = predict_sentiment(new_review2)\n",
    "print(\"Predicted sentiment:\", predicted_sentiment)"
   ]
  },
  {
   "cell_type": "code",
   "execution_count": 42,
   "id": "8bae4672",
   "metadata": {
    "execution": {
     "iopub.execute_input": "2023-06-27T11:56:25.255262Z",
     "iopub.status.busy": "2023-06-27T11:56:25.254998Z",
     "iopub.status.idle": "2023-06-27T11:56:25.265632Z",
     "shell.execute_reply": "2023-06-27T11:56:25.264441Z"
    },
    "papermill": {
     "duration": 0.026345,
     "end_time": "2023-06-27T11:56:25.267782",
     "exception": false,
     "start_time": "2023-06-27T11:56:25.241437",
     "status": "completed"
    },
    "tags": []
   },
   "outputs": [
    {
     "name": "stdout",
     "output_type": "stream",
     "text": [
      "Predicted sentiment: Positive\n"
     ]
    }
   ],
   "source": [
    "new_review3 = \"This is fine\"\n",
    "predicted_sentiment = predict_sentiment(new_review3)\n",
    "print(\"Predicted sentiment:\", predicted_sentiment)"
   ]
  },
  {
   "cell_type": "code",
   "execution_count": 43,
   "id": "b5e7d6b0",
   "metadata": {
    "execution": {
     "iopub.execute_input": "2023-06-27T11:56:25.294479Z",
     "iopub.status.busy": "2023-06-27T11:56:25.294223Z",
     "iopub.status.idle": "2023-06-27T11:56:25.304389Z",
     "shell.execute_reply": "2023-06-27T11:56:25.303379Z"
    },
    "papermill": {
     "duration": 0.025797,
     "end_time": "2023-06-27T11:56:25.306286",
     "exception": false,
     "start_time": "2023-06-27T11:56:25.280489",
     "status": "completed"
    },
    "tags": []
   },
   "outputs": [
    {
     "name": "stdout",
     "output_type": "stream",
     "text": [
      "Predicted sentiment: Neutral\n"
     ]
    }
   ],
   "source": [
    "new_review4 = \"This is dull\"\n",
    "predicted_sentiment = predict_sentiment(new_review4)\n",
    "print(\"Predicted sentiment:\", predicted_sentiment)"
   ]
  },
  {
   "cell_type": "code",
   "execution_count": 44,
   "id": "5d233873",
   "metadata": {
    "execution": {
     "iopub.execute_input": "2023-06-27T11:56:25.333282Z",
     "iopub.status.busy": "2023-06-27T11:56:25.332487Z",
     "iopub.status.idle": "2023-06-27T11:56:25.342437Z",
     "shell.execute_reply": "2023-06-27T11:56:25.341066Z"
    },
    "papermill": {
     "duration": 0.025443,
     "end_time": "2023-06-27T11:56:25.344449",
     "exception": false,
     "start_time": "2023-06-27T11:56:25.319006",
     "status": "completed"
    },
    "tags": []
   },
   "outputs": [
    {
     "name": "stdout",
     "output_type": "stream",
     "text": [
      "Predicted sentiment: Negative\n"
     ]
    }
   ],
   "source": [
    "new_review5 = \"its bad\"\n",
    "predicted_sentiment = predict_sentiment(new_review5)\n",
    "print(\"Predicted sentiment:\", predicted_sentiment)"
   ]
  },
  {
   "cell_type": "code",
   "execution_count": null,
   "id": "8b6fdf78",
   "metadata": {
    "execution": {
     "iopub.execute_input": "2023-06-27T11:56:25.424851Z",
     "iopub.status.busy": "2023-06-27T11:56:25.424560Z",
     "iopub.status.idle": "2023-06-27T11:56:25.434018Z",
     "shell.execute_reply": "2023-06-27T11:56:25.433199Z"
    },
    "papermill": {
     "duration": 0.027408,
     "end_time": "2023-06-27T11:56:25.436014",
     "exception": false,
     "start_time": "2023-06-27T11:56:25.408606",
     "status": "completed"
    },
    "tags": []
   },
   "outputs": [],
   "source": [
    "import pickle\n",
    "\n",
    "with open('mcdmodel.pkl', 'wb') as file:\n",
    "    pickle.dump(model, file)\n"
   ]
  },
  {
   "cell_type": "code",
   "execution_count": null,
   "id": "fde363d6",
   "metadata": {
    "execution": {
     "iopub.execute_input": "2023-06-27T11:56:25.463311Z",
     "iopub.status.busy": "2023-06-27T11:56:25.462495Z",
     "iopub.status.idle": "2023-06-27T11:56:25.470404Z",
     "shell.execute_reply": "2023-06-27T11:56:25.469595Z"
    },
    "papermill": {
     "duration": 0.023539,
     "end_time": "2023-06-27T11:56:25.472337",
     "exception": false,
     "start_time": "2023-06-27T11:56:25.448798",
     "status": "completed"
    },
    "tags": []
   },
   "outputs": [],
   "source": [
    "with open('vectorizer.pkl', 'wb') as file:\n",
    "    pickle.dump(vectorizer, file)"
   ]
  }
 ],
 "metadata": {
  "kernelspec": {
   "display_name": "Python 3",
   "language": "python",
   "name": "python3"
  },
  "language_info": {
   "codemirror_mode": {
    "name": "ipython",
    "version": 3
   },
   "file_extension": ".py",
   "mimetype": "text/x-python",
   "name": "python",
   "nbconvert_exporter": "python",
   "pygments_lexer": "ipython3",
   "version": "3.10.9"
  },
  "papermill": {
   "default_parameters": {},
   "duration": 195.872841,
   "end_time": "2023-06-27T11:56:26.230611",
   "environment_variables": {},
   "exception": null,
   "input_path": "__notebook__.ipynb",
   "output_path": "__notebook__.ipynb",
   "parameters": {},
   "start_time": "2023-06-27T11:53:10.357770",
   "version": "2.4.0"
  }
 },
 "nbformat": 4,
 "nbformat_minor": 5
}
