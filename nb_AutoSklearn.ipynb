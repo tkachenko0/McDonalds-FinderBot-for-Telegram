{
 "cells": [
  {
   "cell_type": "code",
   "execution_count": 4,
   "metadata": {},
   "outputs": [
    {
     "name": "stdout",
     "output_type": "stream",
     "text": [
      "Requirement already satisfied: auto-sklearn in /Users/michele/anaconda3/lib/python3.10/site-packages (0.15.0)\n",
      "Requirement already satisfied: scikit-learn<0.25.0,>=0.24.0 in /Users/michele/anaconda3/lib/python3.10/site-packages (from auto-sklearn) (0.24.2)\n",
      "Requirement already satisfied: pandas>=1.0 in /Users/michele/anaconda3/lib/python3.10/site-packages (from auto-sklearn) (1.4.2)\n",
      "Requirement already satisfied: pyyaml in /Users/michele/anaconda3/lib/python3.10/site-packages (from auto-sklearn) (6.0)\n",
      "Requirement already satisfied: threadpoolctl in /Users/michele/anaconda3/lib/python3.10/site-packages (from auto-sklearn) (2.2.0)\n",
      "Requirement already satisfied: pynisher<0.7,>=0.6.3 in /Users/michele/anaconda3/lib/python3.10/site-packages (from auto-sklearn) (0.6.4)\n",
      "Requirement already satisfied: setuptools in /Users/michele/anaconda3/lib/python3.10/site-packages (from auto-sklearn) (68.0.0)\n",
      "Requirement already satisfied: joblib in /Users/michele/anaconda3/lib/python3.10/site-packages (from auto-sklearn) (1.1.1)\n",
      "Requirement already satisfied: liac-arff in /Users/michele/anaconda3/lib/python3.10/site-packages (from auto-sklearn) (2.5.0)\n",
      "Requirement already satisfied: numpy>=1.9.0 in /Users/michele/anaconda3/lib/python3.10/site-packages (from auto-sklearn) (1.23.5)\n",
      "Requirement already satisfied: ConfigSpace<0.5,>=0.4.21 in /Users/michele/anaconda3/lib/python3.10/site-packages (from auto-sklearn) (0.4.21)\n",
      "Requirement already satisfied: pyrfr<0.9,>=0.8.1 in /Users/michele/anaconda3/lib/python3.10/site-packages (from auto-sklearn) (0.8.3)\n",
      "Requirement already satisfied: distributed>=2012.12 in /Users/michele/anaconda3/lib/python3.10/site-packages (from auto-sklearn) (2022.7.0)\n",
      "Requirement already satisfied: dask>=2021.12 in /Users/michele/anaconda3/lib/python3.10/site-packages (from auto-sklearn) (2022.7.0)\n",
      "Requirement already satisfied: typing-extensions in /Users/michele/anaconda3/lib/python3.10/site-packages (from auto-sklearn) (4.4.0)\n",
      "Requirement already satisfied: smac<1.3,>=1.2 in /Users/michele/anaconda3/lib/python3.10/site-packages (from auto-sklearn) (1.2)\n",
      "Requirement already satisfied: scipy>=1.7.0 in /Users/michele/anaconda3/lib/python3.10/site-packages (from auto-sklearn) (1.10.0)\n",
      "Requirement already satisfied: distro in /Users/michele/anaconda3/lib/python3.10/site-packages (from auto-sklearn) (1.8.0)\n",
      "Requirement already satisfied: cython in /Users/michele/anaconda3/lib/python3.10/site-packages (from ConfigSpace<0.5,>=0.4.21->auto-sklearn) (0.29.36)\n",
      "Requirement already satisfied: pyparsing in /Users/michele/anaconda3/lib/python3.10/site-packages (from ConfigSpace<0.5,>=0.4.21->auto-sklearn) (3.0.9)\n",
      "Requirement already satisfied: toolz>=0.8.2 in /Users/michele/anaconda3/lib/python3.10/site-packages (from dask>=2021.12->auto-sklearn) (0.12.0)\n",
      "Requirement already satisfied: packaging>=20.0 in /Users/michele/anaconda3/lib/python3.10/site-packages (from dask>=2021.12->auto-sklearn) (22.0)\n",
      "Requirement already satisfied: cloudpickle>=1.1.1 in /Users/michele/anaconda3/lib/python3.10/site-packages (from dask>=2021.12->auto-sklearn) (2.0.0)\n",
      "Requirement already satisfied: fsspec>=0.6.0 in /Users/michele/anaconda3/lib/python3.10/site-packages (from dask>=2021.12->auto-sklearn) (2022.11.0)\n",
      "Requirement already satisfied: partd>=0.3.10 in /Users/michele/anaconda3/lib/python3.10/site-packages (from dask>=2021.12->auto-sklearn) (1.2.0)\n",
      "Requirement already satisfied: jinja2 in /Users/michele/anaconda3/lib/python3.10/site-packages (from distributed>=2012.12->auto-sklearn) (3.1.2)\n",
      "Requirement already satisfied: zict>=0.1.3 in /Users/michele/anaconda3/lib/python3.10/site-packages (from distributed>=2012.12->auto-sklearn) (2.1.0)\n",
      "Requirement already satisfied: tblib>=1.6.0 in /Users/michele/anaconda3/lib/python3.10/site-packages (from distributed>=2012.12->auto-sklearn) (1.7.0)\n",
      "Requirement already satisfied: msgpack>=0.6.0 in /Users/michele/anaconda3/lib/python3.10/site-packages (from distributed>=2012.12->auto-sklearn) (1.0.3)\n",
      "Requirement already satisfied: psutil>=5.0 in /Users/michele/anaconda3/lib/python3.10/site-packages (from distributed>=2012.12->auto-sklearn) (5.9.0)\n",
      "Requirement already satisfied: tornado<6.2,>=6.0.3 in /Users/michele/anaconda3/lib/python3.10/site-packages (from distributed>=2012.12->auto-sklearn) (6.1)\n",
      "Requirement already satisfied: urllib3 in /Users/michele/anaconda3/lib/python3.10/site-packages (from distributed>=2012.12->auto-sklearn) (1.26.14)\n",
      "Requirement already satisfied: locket>=1.0.0 in /Users/michele/anaconda3/lib/python3.10/site-packages (from distributed>=2012.12->auto-sklearn) (1.0.0)\n",
      "Requirement already satisfied: sortedcontainers!=2.0.0,!=2.0.1 in /Users/michele/anaconda3/lib/python3.10/site-packages (from distributed>=2012.12->auto-sklearn) (2.4.0)\n",
      "Requirement already satisfied: click>=6.6 in /Users/michele/anaconda3/lib/python3.10/site-packages (from distributed>=2012.12->auto-sklearn) (8.0.4)\n",
      "Requirement already satisfied: python-dateutil>=2.8.1 in /Users/michele/anaconda3/lib/python3.10/site-packages (from pandas>=1.0->auto-sklearn) (2.8.2)\n",
      "Requirement already satisfied: pytz>=2020.1 in /Users/michele/anaconda3/lib/python3.10/site-packages (from pandas>=1.0->auto-sklearn) (2022.7)\n",
      "Requirement already satisfied: emcee>=3.0.0 in /Users/michele/anaconda3/lib/python3.10/site-packages (from smac<1.3,>=1.2->auto-sklearn) (3.1.4)\n",
      "Requirement already satisfied: six>=1.5 in /Users/michele/anaconda3/lib/python3.10/site-packages (from python-dateutil>=2.8.1->pandas>=1.0->auto-sklearn) (1.16.0)\n",
      "Requirement already satisfied: heapdict in /Users/michele/anaconda3/lib/python3.10/site-packages (from zict>=0.1.3->distributed>=2012.12->auto-sklearn) (1.0.1)\n",
      "Requirement already satisfied: MarkupSafe>=2.0 in /Users/michele/anaconda3/lib/python3.10/site-packages (from jinja2->distributed>=2012.12->auto-sklearn) (2.1.1)\n"
     ]
    }
   ],
   "source": [
    "#!pip install -U scikit-learn\n",
    "#!pip install imbalanced-learn==0.8.0\n",
    "#!pip install --upgrade auto-sklearn"
   ]
  },
  {
   "cell_type": "code",
   "execution_count": 3,
   "metadata": {},
   "outputs": [
    {
     "name": "stdout",
     "output_type": "stream",
     "text": [
      "[ERROR] [2023-07-10 15:16:12,352:Client-AutoML(1):f055a294-1f23-11ee-a88a-722d0cb926f8] (' Dummy prediction failed with run state StatusType.CRASHED and additional output: {\\'error\\': \\'Result queue is empty\\', \\'exit_status\\': \"<class \\'pynisher.limit_function_call.AnythingException\\'>\", \\'subprocess_stdout\\': \\'\\', \\'subprocess_stderr\\': \\'Process pynisher function call:\\\\nTraceback (most recent call last):\\\\n  File \"/Users/michele/anaconda3/lib/python3.10/multiprocessing/process.py\", line 314, in _bootstrap\\\\n    self.run()\\\\n  File \"/Users/michele/anaconda3/lib/python3.10/multiprocessing/process.py\", line 108, in run\\\\n    self._target(*self._args, **self._kwargs)\\\\n  File \"/Users/michele/anaconda3/lib/python3.10/site-packages/pynisher/limit_function_call.py\", line 108, in subprocess_func\\\\n    resource.setrlimit(resource.RLIMIT_AS, (mem_in_b, mem_in_b))\\\\nValueError: current limit exceeds maximum limit\\\\n\\', \\'exitcode\\': 1, \\'configuration_origin\\': \\'DUMMY\\'}.',)\n",
      "[ERROR] [2023-07-10 15:16:12,352:Client-AutoML(1):f055a294-1f23-11ee-a88a-722d0cb926f8] (' Dummy prediction failed with run state StatusType.CRASHED and additional output: {\\'error\\': \\'Result queue is empty\\', \\'exit_status\\': \"<class \\'pynisher.limit_function_call.AnythingException\\'>\", \\'subprocess_stdout\\': \\'\\', \\'subprocess_stderr\\': \\'Process pynisher function call:\\\\nTraceback (most recent call last):\\\\n  File \"/Users/michele/anaconda3/lib/python3.10/multiprocessing/process.py\", line 314, in _bootstrap\\\\n    self.run()\\\\n  File \"/Users/michele/anaconda3/lib/python3.10/multiprocessing/process.py\", line 108, in run\\\\n    self._target(*self._args, **self._kwargs)\\\\n  File \"/Users/michele/anaconda3/lib/python3.10/site-packages/pynisher/limit_function_call.py\", line 108, in subprocess_func\\\\n    resource.setrlimit(resource.RLIMIT_AS, (mem_in_b, mem_in_b))\\\\nValueError: current limit exceeds maximum limit\\\\n\\', \\'exitcode\\': 1, \\'configuration_origin\\': \\'DUMMY\\'}.',)\n",
      "Traceback (most recent call last):\n",
      "  File \"/Users/michele/anaconda3/lib/python3.10/site-packages/autosklearn/automl.py\", line 765, in fit\n",
      "    self._do_dummy_prediction()\n",
      "  File \"/Users/michele/anaconda3/lib/python3.10/site-packages/autosklearn/automl.py\", line 489, in _do_dummy_prediction\n",
      "    raise ValueError(msg)\n",
      "ValueError: (' Dummy prediction failed with run state StatusType.CRASHED and additional output: {\\'error\\': \\'Result queue is empty\\', \\'exit_status\\': \"<class \\'pynisher.limit_function_call.AnythingException\\'>\", \\'subprocess_stdout\\': \\'\\', \\'subprocess_stderr\\': \\'Process pynisher function call:\\\\nTraceback (most recent call last):\\\\n  File \"/Users/michele/anaconda3/lib/python3.10/multiprocessing/process.py\", line 314, in _bootstrap\\\\n    self.run()\\\\n  File \"/Users/michele/anaconda3/lib/python3.10/multiprocessing/process.py\", line 108, in run\\\\n    self._target(*self._args, **self._kwargs)\\\\n  File \"/Users/michele/anaconda3/lib/python3.10/site-packages/pynisher/limit_function_call.py\", line 108, in subprocess_func\\\\n    resource.setrlimit(resource.RLIMIT_AS, (mem_in_b, mem_in_b))\\\\nValueError: current limit exceeds maximum limit\\\\n\\', \\'exitcode\\': 1, \\'configuration_origin\\': \\'DUMMY\\'}.',)\n"
     ]
    },
    {
     "ename": "ValueError",
     "evalue": "(' Dummy prediction failed with run state StatusType.CRASHED and additional output: {\\'error\\': \\'Result queue is empty\\', \\'exit_status\\': \"<class \\'pynisher.limit_function_call.AnythingException\\'>\", \\'subprocess_stdout\\': \\'\\', \\'subprocess_stderr\\': \\'Process pynisher function call:\\\\nTraceback (most recent call last):\\\\n  File \"/Users/michele/anaconda3/lib/python3.10/multiprocessing/process.py\", line 314, in _bootstrap\\\\n    self.run()\\\\n  File \"/Users/michele/anaconda3/lib/python3.10/multiprocessing/process.py\", line 108, in run\\\\n    self._target(*self._args, **self._kwargs)\\\\n  File \"/Users/michele/anaconda3/lib/python3.10/site-packages/pynisher/limit_function_call.py\", line 108, in subprocess_func\\\\n    resource.setrlimit(resource.RLIMIT_AS, (mem_in_b, mem_in_b))\\\\nValueError: current limit exceeds maximum limit\\\\n\\', \\'exitcode\\': 1, \\'configuration_origin\\': \\'DUMMY\\'}.',)",
     "output_type": "error",
     "traceback": [
      "\u001b[0;31m---------------------------------------------------------------------------\u001b[0m",
      "\u001b[0;31mValueError\u001b[0m                                Traceback (most recent call last)",
      "Cell \u001b[0;32mIn[3], line 19\u001b[0m\n\u001b[1;32m     16\u001b[0m automl \u001b[39m=\u001b[39m autosklearn\u001b[39m.\u001b[39mclassification\u001b[39m.\u001b[39mAutoSklearnClassifier(time_left_for_this_task\u001b[39m=\u001b[39m\u001b[39m60\u001b[39m, per_run_time_limit\u001b[39m=\u001b[39m\u001b[39m10\u001b[39m)\n\u001b[1;32m     18\u001b[0m \u001b[39m# Fit the AutoSklearnClassifier to the training data\u001b[39;00m\n\u001b[0;32m---> 19\u001b[0m automl\u001b[39m.\u001b[39;49mfit(X_train, y_train)\n\u001b[1;32m     21\u001b[0m \u001b[39m# Generate predictions on the test set\u001b[39;00m\n\u001b[1;32m     22\u001b[0m y_pred \u001b[39m=\u001b[39m automl\u001b[39m.\u001b[39mpredict(X_test)\n",
      "File \u001b[0;32m~/anaconda3/lib/python3.10/site-packages/autosklearn/estimators.py:1448\u001b[0m, in \u001b[0;36mAutoSklearnClassifier.fit\u001b[0;34m(self, X, y, X_test, y_test, feat_type, dataset_name)\u001b[0m\n\u001b[1;32m   1445\u001b[0m \u001b[39m# remember target type for using in predict_proba later.\u001b[39;00m\n\u001b[1;32m   1446\u001b[0m \u001b[39mself\u001b[39m\u001b[39m.\u001b[39mtarget_type \u001b[39m=\u001b[39m target_type\n\u001b[0;32m-> 1448\u001b[0m \u001b[39msuper\u001b[39;49m()\u001b[39m.\u001b[39;49mfit(\n\u001b[1;32m   1449\u001b[0m     X\u001b[39m=\u001b[39;49mX,\n\u001b[1;32m   1450\u001b[0m     y\u001b[39m=\u001b[39;49my,\n\u001b[1;32m   1451\u001b[0m     X_test\u001b[39m=\u001b[39;49mX_test,\n\u001b[1;32m   1452\u001b[0m     y_test\u001b[39m=\u001b[39;49my_test,\n\u001b[1;32m   1453\u001b[0m     feat_type\u001b[39m=\u001b[39;49mfeat_type,\n\u001b[1;32m   1454\u001b[0m     dataset_name\u001b[39m=\u001b[39;49mdataset_name,\n\u001b[1;32m   1455\u001b[0m )\n\u001b[1;32m   1457\u001b[0m \u001b[39m# After fit, a classifier is expected to define classes_\u001b[39;00m\n\u001b[1;32m   1458\u001b[0m \u001b[39m# A list of class labels known to the classifier, mapping each label\u001b[39;00m\n\u001b[1;32m   1459\u001b[0m \u001b[39m# to a numerical index used in the model representation our output.\u001b[39;00m\n\u001b[1;32m   1460\u001b[0m \u001b[39mself\u001b[39m\u001b[39m.\u001b[39mclasses_ \u001b[39m=\u001b[39m \u001b[39mself\u001b[39m\u001b[39m.\u001b[39mautoml_\u001b[39m.\u001b[39mInputValidator\u001b[39m.\u001b[39mtarget_validator\u001b[39m.\u001b[39mclasses_\n",
      "File \u001b[0;32m~/anaconda3/lib/python3.10/site-packages/autosklearn/estimators.py:540\u001b[0m, in \u001b[0;36mAutoSklearnEstimator.fit\u001b[0;34m(self, **kwargs)\u001b[0m\n\u001b[1;32m    538\u001b[0m \u001b[39mif\u001b[39;00m \u001b[39mself\u001b[39m\u001b[39m.\u001b[39mautoml_ \u001b[39mis\u001b[39;00m \u001b[39mNone\u001b[39;00m:\n\u001b[1;32m    539\u001b[0m     \u001b[39mself\u001b[39m\u001b[39m.\u001b[39mautoml_ \u001b[39m=\u001b[39m \u001b[39mself\u001b[39m\u001b[39m.\u001b[39mbuild_automl()\n\u001b[0;32m--> 540\u001b[0m \u001b[39mself\u001b[39;49m\u001b[39m.\u001b[39;49mautoml_\u001b[39m.\u001b[39;49mfit(load_models\u001b[39m=\u001b[39;49m\u001b[39mself\u001b[39;49m\u001b[39m.\u001b[39;49mload_models, \u001b[39m*\u001b[39;49m\u001b[39m*\u001b[39;49mkwargs)\n\u001b[1;32m    542\u001b[0m \u001b[39mreturn\u001b[39;00m \u001b[39mself\u001b[39m\n",
      "File \u001b[0;32m~/anaconda3/lib/python3.10/site-packages/autosklearn/automl.py:2304\u001b[0m, in \u001b[0;36mAutoMLClassifier.fit\u001b[0;34m(self, X, y, X_test, y_test, feat_type, dataset_name, only_return_configuration_space, load_models)\u001b[0m\n\u001b[1;32m   2293\u001b[0m \u001b[39mdef\u001b[39;00m \u001b[39mfit\u001b[39m(\n\u001b[1;32m   2294\u001b[0m     \u001b[39mself\u001b[39m,\n\u001b[1;32m   2295\u001b[0m     X: SUPPORTED_FEAT_TYPES,\n\u001b[0;32m   (...)\u001b[0m\n\u001b[1;32m   2302\u001b[0m     load_models: \u001b[39mbool\u001b[39m \u001b[39m=\u001b[39m \u001b[39mTrue\u001b[39;00m,\n\u001b[1;32m   2303\u001b[0m ) \u001b[39m-\u001b[39m\u001b[39m>\u001b[39m AutoMLClassifier:\n\u001b[0;32m-> 2304\u001b[0m     \u001b[39mreturn\u001b[39;00m \u001b[39msuper\u001b[39;49m()\u001b[39m.\u001b[39;49mfit(\n\u001b[1;32m   2305\u001b[0m         X,\n\u001b[1;32m   2306\u001b[0m         y,\n\u001b[1;32m   2307\u001b[0m         X_test\u001b[39m=\u001b[39;49mX_test,\n\u001b[1;32m   2308\u001b[0m         y_test\u001b[39m=\u001b[39;49my_test,\n\u001b[1;32m   2309\u001b[0m         feat_type\u001b[39m=\u001b[39;49mfeat_type,\n\u001b[1;32m   2310\u001b[0m         dataset_name\u001b[39m=\u001b[39;49mdataset_name,\n\u001b[1;32m   2311\u001b[0m         only_return_configuration_space\u001b[39m=\u001b[39;49monly_return_configuration_space,\n\u001b[1;32m   2312\u001b[0m         load_models\u001b[39m=\u001b[39;49mload_models,\n\u001b[1;32m   2313\u001b[0m         is_classification\u001b[39m=\u001b[39;49m\u001b[39mTrue\u001b[39;49;00m,\n\u001b[1;32m   2314\u001b[0m     )\n",
      "File \u001b[0;32m~/anaconda3/lib/python3.10/site-packages/autosklearn/automl.py:962\u001b[0m, in \u001b[0;36mAutoML.fit\u001b[0;34m(self, X, y, task, X_test, y_test, feat_type, dataset_name, only_return_configuration_space, load_models, is_classification)\u001b[0m\n\u001b[1;32m    959\u001b[0m \u001b[39mexcept\u001b[39;00m \u001b[39mException\u001b[39;00m \u001b[39mas\u001b[39;00m e:\n\u001b[1;32m    960\u001b[0m     \u001b[39m# This will be called before the _fit_cleanup\u001b[39;00m\n\u001b[1;32m    961\u001b[0m     \u001b[39mself\u001b[39m\u001b[39m.\u001b[39m_logger\u001b[39m.\u001b[39mexception(e)\n\u001b[0;32m--> 962\u001b[0m     \u001b[39mraise\u001b[39;00m e\n\u001b[1;32m    963\u001b[0m \u001b[39mfinally\u001b[39;00m:\n\u001b[1;32m    964\u001b[0m     \u001b[39mself\u001b[39m\u001b[39m.\u001b[39m_fit_cleanup()\n",
      "File \u001b[0;32m~/anaconda3/lib/python3.10/site-packages/autosklearn/automl.py:765\u001b[0m, in \u001b[0;36mAutoML.fit\u001b[0;34m(self, X, y, task, X_test, y_test, feat_type, dataset_name, only_return_configuration_space, load_models, is_classification)\u001b[0m\n\u001b[1;32m    763\u001b[0m \u001b[39mwith\u001b[39;00m \u001b[39mself\u001b[39m\u001b[39m.\u001b[39m_stopwatch\u001b[39m.\u001b[39mtime(\u001b[39m\"\u001b[39m\u001b[39mDummy predictions\u001b[39m\u001b[39m\"\u001b[39m):\n\u001b[1;32m    764\u001b[0m     \u001b[39mself\u001b[39m\u001b[39m.\u001b[39mnum_run \u001b[39m+\u001b[39m\u001b[39m=\u001b[39m \u001b[39m1\u001b[39m\n\u001b[0;32m--> 765\u001b[0m     \u001b[39mself\u001b[39;49m\u001b[39m.\u001b[39;49m_do_dummy_prediction()\n\u001b[1;32m    767\u001b[0m \u001b[39m# == RUN ensemble builder\u001b[39;00m\n\u001b[1;32m    768\u001b[0m \u001b[39m# Do this before calculating the meta-features to make sure that the\u001b[39;00m\n\u001b[1;32m    769\u001b[0m \u001b[39m# dummy predictions are actually included in the ensemble even if\u001b[39;00m\n\u001b[1;32m    770\u001b[0m \u001b[39m# calculating the meta-features takes very long\u001b[39;00m\n\u001b[1;32m    771\u001b[0m \u001b[39mwith\u001b[39;00m \u001b[39mself\u001b[39m\u001b[39m.\u001b[39m_stopwatch\u001b[39m.\u001b[39mtime(\u001b[39m\"\u001b[39m\u001b[39mRun Ensemble Builder\u001b[39m\u001b[39m\"\u001b[39m):\n",
      "File \u001b[0;32m~/anaconda3/lib/python3.10/site-packages/autosklearn/automl.py:489\u001b[0m, in \u001b[0;36mAutoML._do_dummy_prediction\u001b[0;34m(self)\u001b[0m\n\u001b[1;32m    483\u001b[0m         msg \u001b[39m=\u001b[39m (\n\u001b[1;32m    484\u001b[0m             \u001b[39mf\u001b[39m\u001b[39m\"\u001b[39m\u001b[39m Dummy prediction failed with run state \u001b[39m\u001b[39m{\u001b[39;00mstatus\u001b[39m}\u001b[39;00m\u001b[39m and\u001b[39m\u001b[39m\"\u001b[39m\n\u001b[1;32m    485\u001b[0m             \u001b[39mf\u001b[39m\u001b[39m\"\u001b[39m\u001b[39m additional output: \u001b[39m\u001b[39m{\u001b[39;00madditional_info\u001b[39m}\u001b[39;00m\u001b[39m.\u001b[39m\u001b[39m\"\u001b[39m,\n\u001b[1;32m    486\u001b[0m         )\n\u001b[1;32m    488\u001b[0m     \u001b[39mself\u001b[39m\u001b[39m.\u001b[39m_logger\u001b[39m.\u001b[39merror(msg)\n\u001b[0;32m--> 489\u001b[0m     \u001b[39mraise\u001b[39;00m \u001b[39mValueError\u001b[39;00m(msg)\n\u001b[1;32m    491\u001b[0m \u001b[39mreturn\u001b[39;00m\n",
      "\u001b[0;31mValueError\u001b[0m: (' Dummy prediction failed with run state StatusType.CRASHED and additional output: {\\'error\\': \\'Result queue is empty\\', \\'exit_status\\': \"<class \\'pynisher.limit_function_call.AnythingException\\'>\", \\'subprocess_stdout\\': \\'\\', \\'subprocess_stderr\\': \\'Process pynisher function call:\\\\nTraceback (most recent call last):\\\\n  File \"/Users/michele/anaconda3/lib/python3.10/multiprocessing/process.py\", line 314, in _bootstrap\\\\n    self.run()\\\\n  File \"/Users/michele/anaconda3/lib/python3.10/multiprocessing/process.py\", line 108, in run\\\\n    self._target(*self._args, **self._kwargs)\\\\n  File \"/Users/michele/anaconda3/lib/python3.10/site-packages/pynisher/limit_function_call.py\", line 108, in subprocess_func\\\\n    resource.setrlimit(resource.RLIMIT_AS, (mem_in_b, mem_in_b))\\\\nValueError: current limit exceeds maximum limit\\\\n\\', \\'exitcode\\': 1, \\'configuration_origin\\': \\'DUMMY\\'}.',)"
     ]
    }
   ],
   "source": [
    "\n",
    "#QUESTO NON FUNZIONA: \n",
    "#   \n",
    "#   ValueError: (' Dummy prediction failed with run state StatusType.CRASHED and additional output: \n",
    "#                   {\\'error\\': \\'Result queue is empty\\', \\'exit_status\\': \"\", \\'subprocess_stdout\\': \n",
    "#                       \\'\\', \\'subprocess_stderr\\': \\'Process pynisher function call:\\\\nTraceback (most recent call last):\\\\n  \n",
    "#                   File \"/Users/michele/anaconda3/lib/python3.10/multiprocessing/process.py\", line 314, in _bootstrap\\\\n    \n",
    "#                   self.run()\\\\n  File \"/Users/michele/anaconda3/lib/python3.10/multiprocessing/process.py\", line 108, in run\\\\n    \n",
    "#                   self._target(*self._args, **self._kwargs)\\\\n  File \"/Users/michele/anaconda3/lib/python3.10/site-packages/pynisher/limit_function_call.py\", line 108, in subprocess_func\\\\n    \n",
    "#                   resource.setrlimit(resource.RLIMIT_AS, (mem_in_b, mem_in_b))\\\\nValueError: current limit exceeds maximum limit\\\\n\\', \\'exitcode\\': 1, \\'configuration_origin\\': \\'DUMMY\\'}.',)\n",
    "\n",
    "\n",
    "import autosklearn.classification\n",
    "from sklearn.datasets import load_iris\n",
    "from sklearn.model_selection import train_test_split\n",
    "\n",
    "# Load the Iris dataset\n",
    "iris = load_iris()\n",
    "X = iris.data\n",
    "y = iris.target\n",
    "\n",
    "# Split the dataset into training and testing sets\n",
    "X_train, X_test, y_train, y_test = train_test_split(X, y, test_size=0.2, random_state=42)\n",
    "\n",
    "# Create an instance of AutoSklearnClassifier\n",
    "automl = autosklearn.classification.AutoSklearnClassifier(time_left_for_this_task=60, per_run_time_limit=10)\n",
    "\n",
    "# Fit the AutoSklearnClassifier to the training data\n",
    "automl.fit(X_train, y_train)\n",
    "\n",
    "# Generate predictions on the test set\n",
    "y_pred = automl.predict(X_test)\n",
    "\n",
    "# Print the accuracy score of the classifier\n",
    "accuracy = (y_pred == y_test).sum() / len(y_test)\n",
    "print(\"Accuracy:\", accuracy)\n"
   ]
  }
 ],
 "metadata": {
  "kernelspec": {
   "display_name": "Python 3 (ipykernel)",
   "language": "python",
   "name": "python3"
  },
  "language_info": {
   "codemirror_mode": {
    "name": "ipython",
    "version": 3
   },
   "file_extension": ".py",
   "mimetype": "text/x-python",
   "name": "python",
   "nbconvert_exporter": "python",
   "pygments_lexer": "ipython3",
   "version": "3.10.9"
  },
  "papermill": {
   "default_parameters": {},
   "duration": 195.872841,
   "end_time": "2023-06-27T11:56:26.230611",
   "environment_variables": {},
   "exception": null,
   "input_path": "__notebook__.ipynb",
   "output_path": "__notebook__.ipynb",
   "parameters": {},
   "start_time": "2023-06-27T11:53:10.357770",
   "version": "2.4.0"
  }
 },
 "nbformat": 4,
 "nbformat_minor": 5
}
