{
 "cells": [
  {
   "cell_type": "code",
   "execution_count": 1,
   "id": "dec6d26c",
   "metadata": {},
   "outputs": [],
   "source": [
    "import warnings\n",
    "warnings.filterwarnings(\"ignore\")\n",
    "\n",
    "from sklearn.model_selection import train_test_split\n",
    "\n",
    "from sklearn.feature_extraction.text import CountVectorizer, TfidfVectorizer\n",
    "\n",
    "from sklearn.svm import SVC\n",
    "from sklearn.naive_bayes import MultinomialNB\n",
    "from sklearn.linear_model import PassiveAggressiveClassifier\n",
    "from sklearn.linear_model import LogisticRegression\n",
    "\n",
    "# import custom modules\n",
    "from custom_libs import db\n",
    "from custom_libs import preprocessing\n",
    "from custom_libs import classification\n",
    "from custom_libs import dump"
   ]
  },
  {
   "attachments": {},
   "cell_type": "markdown",
   "id": "3b248bbd",
   "metadata": {},
   "source": [
    "## Loading del dataset e Preprocessing"
   ]
  },
  {
   "cell_type": "code",
   "execution_count": 2,
   "id": "e623d99c",
   "metadata": {},
   "outputs": [
    {
     "data": {
      "text/html": [
       "<div>\n",
       "<style scoped>\n",
       "    .dataframe tbody tr th:only-of-type {\n",
       "        vertical-align: middle;\n",
       "    }\n",
       "\n",
       "    .dataframe tbody tr th {\n",
       "        vertical-align: top;\n",
       "    }\n",
       "\n",
       "    .dataframe thead th {\n",
       "        text-align: right;\n",
       "    }\n",
       "</style>\n",
       "<table border=\"1\" class=\"dataframe\">\n",
       "  <thead>\n",
       "    <tr style=\"text-align: right;\">\n",
       "      <th></th>\n",
       "      <th>message</th>\n",
       "      <th>sentiment</th>\n",
       "    </tr>\n",
       "  </thead>\n",
       "  <tbody>\n",
       "    <tr>\n",
       "      <th>0</th>\n",
       "      <td>I really enjoyed the movie</td>\n",
       "      <td>positive</td>\n",
       "    </tr>\n",
       "    <tr>\n",
       "      <th>1</th>\n",
       "      <td>The food was terrible</td>\n",
       "      <td>negative</td>\n",
       "    </tr>\n",
       "  </tbody>\n",
       "</table>\n",
       "</div>"
      ],
      "text/plain": [
       "                      message sentiment\n",
       "0  I really enjoyed the movie  positive\n",
       "1       The food was terrible  negative"
      ]
     },
     "execution_count": 2,
     "metadata": {},
     "output_type": "execute_result"
    }
   ],
   "source": [
    "df = db.get_dataset(\"chat_dataset\")\n",
    "df.head(2)"
   ]
  },
  {
   "cell_type": "code",
   "execution_count": 5,
   "id": "8d1934b4",
   "metadata": {},
   "outputs": [],
   "source": [
    "x_column_name = \"message\"\n",
    "x_column_cleaned_name = x_column_name + \"_clean\""
   ]
  },
  {
   "cell_type": "code",
   "execution_count": 6,
   "id": "e6367f84",
   "metadata": {},
   "outputs": [
    {
     "data": {
      "text/html": [
       "<div>\n",
       "<style scoped>\n",
       "    .dataframe tbody tr th:only-of-type {\n",
       "        vertical-align: middle;\n",
       "    }\n",
       "\n",
       "    .dataframe tbody tr th {\n",
       "        vertical-align: top;\n",
       "    }\n",
       "\n",
       "    .dataframe thead th {\n",
       "        text-align: right;\n",
       "    }\n",
       "</style>\n",
       "<table border=\"1\" class=\"dataframe\">\n",
       "  <thead>\n",
       "    <tr style=\"text-align: right;\">\n",
       "      <th></th>\n",
       "      <th>message</th>\n",
       "      <th>sentiment</th>\n",
       "      <th>message_clean</th>\n",
       "    </tr>\n",
       "  </thead>\n",
       "  <tbody>\n",
       "    <tr>\n",
       "      <th>0</th>\n",
       "      <td>I really enjoyed the movie</td>\n",
       "      <td>positive</td>\n",
       "      <td>really enjoyed movie</td>\n",
       "    </tr>\n",
       "    <tr>\n",
       "      <th>1</th>\n",
       "      <td>The food was terrible</td>\n",
       "      <td>negative</td>\n",
       "      <td>food terrible</td>\n",
       "    </tr>\n",
       "  </tbody>\n",
       "</table>\n",
       "</div>"
      ],
      "text/plain": [
       "                      message sentiment         message_clean\n",
       "0  I really enjoyed the movie  positive  really enjoyed movie\n",
       "1       The food was terrible  negative         food terrible"
      ]
     },
     "execution_count": 6,
     "metadata": {},
     "output_type": "execute_result"
    }
   ],
   "source": [
    "proprocessing_function = preprocessing.preprocess_text\n",
    "preprocessing.preprocess_dataframe(df, x_column_name, proprocessing_function)\n",
    "df.head(2)"
   ]
  },
  {
   "cell_type": "code",
   "execution_count": 7,
   "id": "8afe3411",
   "metadata": {},
   "outputs": [
    {
     "data": {
      "text/html": [
       "<div>\n",
       "<style scoped>\n",
       "    .dataframe tbody tr th:only-of-type {\n",
       "        vertical-align: middle;\n",
       "    }\n",
       "\n",
       "    .dataframe tbody tr th {\n",
       "        vertical-align: top;\n",
       "    }\n",
       "\n",
       "    .dataframe thead th {\n",
       "        text-align: right;\n",
       "    }\n",
       "</style>\n",
       "<table border=\"1\" class=\"dataframe\">\n",
       "  <thead>\n",
       "    <tr style=\"text-align: right;\">\n",
       "      <th></th>\n",
       "      <th>message</th>\n",
       "      <th>sentiment</th>\n",
       "      <th>message_clean</th>\n",
       "    </tr>\n",
       "  </thead>\n",
       "  <tbody>\n",
       "    <tr>\n",
       "      <th>436</th>\n",
       "      <td>I'm loving this new hobby I picked up ð¨</td>\n",
       "      <td>Positive</td>\n",
       "      <td>loving new hobby picked</td>\n",
       "    </tr>\n",
       "    <tr>\n",
       "      <th>220</th>\n",
       "      <td>I have no strong opinion about this</td>\n",
       "      <td>Neutral</td>\n",
       "      <td>strong opinion</td>\n",
       "    </tr>\n",
       "    <tr>\n",
       "      <th>91</th>\n",
       "      <td>The food was outstanding</td>\n",
       "      <td>Positive</td>\n",
       "      <td>food outstanding</td>\n",
       "    </tr>\n",
       "    <tr>\n",
       "      <th>269</th>\n",
       "      <td>The food was ordinary</td>\n",
       "      <td>Neutral</td>\n",
       "      <td>food ordinary</td>\n",
       "    </tr>\n",
       "    <tr>\n",
       "      <th>420</th>\n",
       "      <td>I'm feeling a bit lost without a plan ð</td>\n",
       "      <td>Neutral</td>\n",
       "      <td>feeling bit lost without plan</td>\n",
       "    </tr>\n",
       "  </tbody>\n",
       "</table>\n",
       "</div>"
      ],
      "text/plain": [
       "                                        message sentiment  \\\n",
       "436  I'm loving this new hobby I picked up ð¨  Positive   \n",
       "220         I have no strong opinion about this   Neutral   \n",
       "91                     The food was outstanding  Positive   \n",
       "269                       The food was ordinary   Neutral   \n",
       "420  I'm feeling a bit lost without a plan ð   Neutral   \n",
       "\n",
       "                     message_clean  \n",
       "436        loving new hobby picked  \n",
       "220                 strong opinion  \n",
       "91                food outstanding  \n",
       "269                  food ordinary  \n",
       "420  feeling bit lost without plan  "
      ]
     },
     "execution_count": 7,
     "metadata": {},
     "output_type": "execute_result"
    }
   ],
   "source": [
    "df['sentiment'] = df['sentiment'].apply(\n",
    "    lambda x: classification.Sentiment.NEGATIVE if x == \"negative\" else x)\n",
    "df['sentiment'] = df['sentiment'].apply(\n",
    "    lambda x: classification.Sentiment.POSITIVE if x == \"positive\" else x)\n",
    "df['sentiment'] = df['sentiment'].apply(\n",
    "    lambda x: classification.Sentiment.NEUTRAL if x == \"neutral\" else x)\n",
    "\n",
    "df.sample(5)"
   ]
  },
  {
   "attachments": {},
   "cell_type": "markdown",
   "id": "84710ed6",
   "metadata": {},
   "source": [
    "## Cose delle Classificazioni"
   ]
  },
  {
   "cell_type": "code",
   "execution_count": 8,
   "id": "752d27e8",
   "metadata": {},
   "outputs": [
    {
     "data": {
      "text/html": [
       "<div>\n",
       "<style scoped>\n",
       "    .dataframe tbody tr th:only-of-type {\n",
       "        vertical-align: middle;\n",
       "    }\n",
       "\n",
       "    .dataframe tbody tr th {\n",
       "        vertical-align: top;\n",
       "    }\n",
       "\n",
       "    .dataframe thead th {\n",
       "        text-align: right;\n",
       "    }\n",
       "</style>\n",
       "<table border=\"1\" class=\"dataframe\">\n",
       "  <thead>\n",
       "    <tr style=\"text-align: right;\">\n",
       "      <th></th>\n",
       "      <th>message</th>\n",
       "      <th>sentiment</th>\n",
       "      <th>message_clean</th>\n",
       "    </tr>\n",
       "  </thead>\n",
       "  <tbody>\n",
       "    <tr>\n",
       "      <th>0</th>\n",
       "      <td>I really enjoyed the movie</td>\n",
       "      <td>Positive</td>\n",
       "      <td>really enjoyed movie</td>\n",
       "    </tr>\n",
       "    <tr>\n",
       "      <th>1</th>\n",
       "      <td>The food was terrible</td>\n",
       "      <td>Negative</td>\n",
       "      <td>food terrible</td>\n",
       "    </tr>\n",
       "    <tr>\n",
       "      <th>2</th>\n",
       "      <td>I'm not sure how I feel about this</td>\n",
       "      <td>Positive</td>\n",
       "      <td>sure feel</td>\n",
       "    </tr>\n",
       "  </tbody>\n",
       "</table>\n",
       "</div>"
      ],
      "text/plain": [
       "                              message sentiment         message_clean\n",
       "0          I really enjoyed the movie  Positive  really enjoyed movie\n",
       "1               The food was terrible  Negative         food terrible\n",
       "2  I'm not sure how I feel about this  Positive             sure feel"
      ]
     },
     "execution_count": 8,
     "metadata": {},
     "output_type": "execute_result"
    }
   ],
   "source": [
    "classification.append_sentiment_for_each_row(df, x_column_cleaned_name, new_column_name='sentiment')\n",
    "df.head(3)"
   ]
  },
  {
   "cell_type": "code",
   "execution_count": 17,
   "id": "75909735",
   "metadata": {},
   "outputs": [],
   "source": [
    "X, y = df[x_column_cleaned_name], df['sentiment']\n",
    "x_train, x_test, y_train, y_test = train_test_split(X, y, test_size=0.2, random_state=42)"
   ]
  },
  {
   "cell_type": "code",
   "execution_count": 18,
   "id": "569d7d53",
   "metadata": {},
   "outputs": [
    {
     "name": "stdout",
     "output_type": "stream",
     "text": [
      "Accuracy for PassiveAggressiveClassifier with vectorizer 0: 0.8803418803418803\n",
      "Accuracy for PassiveAggressiveClassifier with vectorizer 1: 0.8717948717948718\n",
      "Accuracy for PassiveAggressiveClassifier with vectorizer 2: 0.8547008547008547\n",
      "Accuracy for PassiveAggressiveClassifier with vectorizer 3: 0.8632478632478633\n",
      "Accuracy for PassiveAggressiveClassifier with vectorizer 4: 0.8632478632478633\n",
      "\n",
      "\n",
      "Accuracy for LogisticRegression with vectorizer 0: 0.8376068376068376\n",
      "Accuracy for LogisticRegression with vectorizer 1: 0.8205128205128205\n",
      "Accuracy for LogisticRegression with vectorizer 2: 0.8205128205128205\n",
      "Accuracy for LogisticRegression with vectorizer 3: 0.7863247863247863\n",
      "Accuracy for LogisticRegression with vectorizer 4: 0.7777777777777778\n",
      "\n",
      "\n",
      "Accuracy for MultinomialNB with vectorizer 0: 0.8205128205128205\n",
      "Accuracy for MultinomialNB with vectorizer 1: 0.8376068376068376\n",
      "Accuracy for MultinomialNB with vectorizer 2: 0.8376068376068376\n",
      "Accuracy for MultinomialNB with vectorizer 3: 0.8034188034188035\n",
      "Accuracy for MultinomialNB with vectorizer 4: 0.7948717948717948\n",
      "\n",
      "\n",
      "Accuracy for SVC with vectorizer 0: 0.8376068376068376\n",
      "Accuracy for SVC with vectorizer 1: 0.8205128205128205\n",
      "Accuracy for SVC with vectorizer 2: 0.8205128205128205\n",
      "Accuracy for SVC with vectorizer 3: 0.7948717948717948\n",
      "Accuracy for SVC with vectorizer 4: 0.7777777777777778\n",
      "\n",
      "\n"
     ]
    }
   ],
   "source": [
    "vectorizers = list()\n",
    "vectorizers.append(CountVectorizer(stop_words='english'))\n",
    "vectorizers.append(TfidfVectorizer(stop_words='english'))\n",
    "vectorizers.append(TfidfVectorizer(stop_words='english', max_df=0.8))\n",
    "vectorizers.append(TfidfVectorizer(stop_words='english', max_df=0.8, ngram_range=(1,2)))\n",
    "vectorizers.append(TfidfVectorizer(stop_words='english', max_df=0.8, ngram_range=(1,3)))\n",
    "\n",
    "models = [PassiveAggressiveClassifier, LogisticRegression, MultinomialNB, SVC]\n",
    "\n",
    "classification.test_classifiers(models, vectorizers, x_train, x_test, y_train, y_test)"
   ]
  },
  {
   "cell_type": "code",
   "execution_count": 20,
   "id": "ee6fb608",
   "metadata": {},
   "outputs": [
    {
     "name": "stdout",
     "output_type": "stream",
     "text": [
      "Accuracy: 0.8717948717948718\n",
      "Classification Report:\n",
      "              precision    recall  f1-score   support\n",
      "\n",
      "    Negative       0.77      0.81      0.79        21\n",
      "     Neutral       0.88      0.78      0.82        36\n",
      "    Positive       0.90      0.95      0.93        60\n",
      "\n",
      "    accuracy                           0.87       117\n",
      "   macro avg       0.85      0.85      0.85       117\n",
      "weighted avg       0.87      0.87      0.87       117\n",
      "\n",
      "Confusion matrix, without normalization\n"
     ]
    },
    {
     "data": {
      "image/png": "[encoded data removed]",
      "text/plain": [
       "<Figure size 640x480 with 2 Axes>"
      ]
     },
     "metadata": {},
     "output_type": "display_data"
    }
   ],
   "source": [
    "# Best combination of model and vectorizer\n",
    "vectorizer = CountVectorizer(stop_words='english')\n",
    "x_train_trasformed = vectorizer.fit_transform(x_train)\n",
    "x_test_trasformed = vectorizer.transform(x_test)\n",
    "\n",
    "class_names = classification.Sentiment.get_all()\n",
    "model = classification.test_classifier(PassiveAggressiveClassifier, x_train_trasformed, x_test_trasformed, y_train, y_test, class_names)"
   ]
  },
  {
   "cell_type": "code",
   "execution_count": 21,
   "id": "4b4813fd",
   "metadata": {},
   "outputs": [
    {
     "name": "stdout",
     "output_type": "stream",
     "text": [
      "Saving model at: dump_models/model_chat.pkl\n",
      "Saving vectorizer at: dump_models/vectorizer_chat.pkl\n"
     ]
    }
   ],
   "source": [
    "dump.save_model(model, \"model_chat\")\n",
    "dump.save_vectorizer(vectorizer, \"vectorizer_chat\")"
   ]
  }
 ],
 "metadata": {
  "kernelspec": {
   "display_name": "Python 3",
   "language": "python",
   "name": "python3"
  },
  "language_info": {
   "codemirror_mode": {
    "name": "ipython",
    "version": 3
   },
   "file_extension": ".py",
   "mimetype": "text/x-python",
   "name": "python",
   "nbconvert_exporter": "python",
   "pygments_lexer": "ipython3",
   "version": "3.10.9"
  },
  "papermill": {
   "default_parameters": {},
   "duration": 195.872841,
   "end_time": "2023-06-27T11:56:26.230611",
   "environment_variables": {},
   "exception": null,
   "input_path": "__notebook__.ipynb",
   "output_path": "__notebook__.ipynb",
   "parameters": {},
   "start_time": "2023-06-27T11:53:10.357770",
   "version": "2.4.0"
  }
 },
 "nbformat": 4,
 "nbformat_minor": 5
}
