{
 "cells": [
  {
   "cell_type": "code",
   "execution_count": 1,
   "id": "dec6d26c",
   "metadata": {},
   "outputs": [],
   "source": [
    "import warnings\n",
    "warnings.filterwarnings(\"ignore\")\n",
    "\n",
    "from sklearn.model_selection import train_test_split\n",
    "\n",
    "from sklearn.feature_extraction.text import CountVectorizer, TfidfVectorizer\n",
    "\n",
    "from sklearn.svm import SVC\n",
    "from sklearn.naive_bayes import MultinomialNB\n",
    "from sklearn.linear_model import PassiveAggressiveClassifier\n",
    "from sklearn.linear_model import LogisticRegression\n",
    "\n",
    "# import custom modules\n",
    "from custom_libs import db\n",
    "from custom_libs import preprocessing\n",
    "from custom_libs import classification\n",
    "from custom_libs import dump"
   ]
  },
  {
   "attachments": {},
   "cell_type": "markdown",
   "id": "3b248bbd",
   "metadata": {},
   "source": [
    "## Loading del dataset e Preprocessing"
   ]
  },
  {
   "cell_type": "code",
   "execution_count": 2,
   "id": "e623d99c",
   "metadata": {},
   "outputs": [
    {
     "data": {
      "text/html": [
       "<div>\n",
       "<style scoped>\n",
       "    .dataframe tbody tr th:only-of-type {\n",
       "        vertical-align: middle;\n",
       "    }\n",
       "\n",
       "    .dataframe tbody tr th {\n",
       "        vertical-align: top;\n",
       "    }\n",
       "\n",
       "    .dataframe thead th {\n",
       "        text-align: right;\n",
       "    }\n",
       "</style>\n",
       "<table border=\"1\" class=\"dataframe\">\n",
       "  <thead>\n",
       "    <tr style=\"text-align: right;\">\n",
       "      <th></th>\n",
       "      <th>Review</th>\n",
       "      <th>Rating</th>\n",
       "    </tr>\n",
       "  </thead>\n",
       "  <tbody>\n",
       "    <tr>\n",
       "      <th>0</th>\n",
       "      <td>nice hotel expensive parking got good deal sta...</td>\n",
       "      <td>4</td>\n",
       "    </tr>\n",
       "    <tr>\n",
       "      <th>1</th>\n",
       "      <td>ok nothing special charge diamond member hilto...</td>\n",
       "      <td>2</td>\n",
       "    </tr>\n",
       "  </tbody>\n",
       "</table>\n",
       "</div>"
      ],
      "text/plain": [
       "                                              Review  Rating\n",
       "0  nice hotel expensive parking got good deal sta...       4\n",
       "1  ok nothing special charge diamond member hilto...       2"
      ]
     },
     "execution_count": 2,
     "metadata": {},
     "output_type": "execute_result"
    }
   ],
   "source": [
    "df = db.get_dataset(\"tripadvisor_hotel_reviews\")\n",
    "df.head(2)"
   ]
  },
  {
   "cell_type": "code",
   "execution_count": null,
   "id": "8d1934b4",
   "metadata": {},
   "outputs": [],
   "source": [
    "x_column_name = \"Review\"\n",
    "x_column_cleaned_name = x_column_name + \"_clean\""
   ]
  },
  {
   "cell_type": "code",
   "execution_count": null,
   "id": "e6367f84",
   "metadata": {},
   "outputs": [],
   "source": [
    "proprocessing_function = preprocessing.preprocess_text\n",
    "preprocessing.preprocess_dataframe(df, x_column_name, proprocessing_function)\n",
    "df.head(2)"
   ]
  },
  {
   "cell_type": "code",
   "execution_count": null,
   "id": "8afe3411",
   "metadata": {},
   "outputs": [],
   "source": [
    "df['sentiment'] = df['sentiment'].apply(\n",
    "    lambda x: classification.Sentiment.NEGATIVE if x == \"negative\" else x)\n",
    "df['sentiment'] = df['sentiment'].apply(\n",
    "    lambda x: classification.Sentiment.POSITIVE if x == \"positive\" else x)\n",
    "df['sentiment'] = df['sentiment'].apply(\n",
    "    lambda x: classification.Sentiment.NEUTRAL if x == \"neutral\" else x)\n",
    "\n",
    "df.sample(5)\n"
   ]
  },
  {
   "attachments": {},
   "cell_type": "markdown",
   "id": "84710ed6",
   "metadata": {},
   "source": [
    "## Cose delle Classificazioni"
   ]
  },
  {
   "cell_type": "code",
   "execution_count": null,
   "id": "75909735",
   "metadata": {},
   "outputs": [],
   "source": [
    "X, y = df[x_column_cleaned_name], df['sentiment']\n",
    "x_train, x_test, y_train, y_test = train_test_split(X, y, test_size=0.2, random_state=42)"
   ]
  },
  {
   "cell_type": "code",
   "execution_count": null,
   "id": "569d7d53",
   "metadata": {},
   "outputs": [],
   "source": [
    "vectorizers = list()\n",
    "\n",
    "vectorizers.append(CountVectorizer(stop_words='english'))\n",
    "vectorizers.append(TfidfVectorizer())\n",
    "vectorizers.append(TfidfVectorizer(stop_words='english', max_df=0.8))\n",
    "vectorizers.append(TfidfVectorizer(stop_words='english', max_df=0.8, ngram_range=(1,2)))\n",
    "vectorizers.append(TfidfVectorizer(stop_words='english', max_df=0.8, ngram_range=(1,3)))\n",
    "\n",
    "models = [PassiveAggressiveClassifier, LogisticRegression, MultinomialNB, SVC]\n",
    "\n",
    "classification.test_classifiers(models, vectorizers, x_train, x_test, y_train, y_test)"
   ]
  },
  {
   "cell_type": "code",
   "execution_count": null,
   "id": "ee6fb608",
   "metadata": {},
   "outputs": [],
   "source": [
    "# Best combination of model and vectorizer\n",
    "vectorizer = TfidfVectorizer()\n",
    "x_train_trasformed = vectorizer.fit_transform(x_train)\n",
    "x_test_trasformed = vectorizer.transform(x_test)\n",
    "\n",
    "class_names = classification.Sentiment.get_all()\n",
    "model = classification.test_classifier(SVC, x_train_trasformed, x_test_trasformed, y_train, y_test, class_names)"
   ]
  },
  {
   "cell_type": "code",
   "execution_count": null,
   "id": "4b4813fd",
   "metadata": {},
   "outputs": [],
   "source": [
    "dump.save_model(model, \"svc_model\")\n",
    "dump.save_vectorizer(vectorizer, \"svc_vectorizer\")"
   ]
  },
  {
   "cell_type": "code",
   "execution_count": null,
   "id": "7c9bb72c",
   "metadata": {},
   "outputs": [],
   "source": []
  }
 ],
 "metadata": {
  "kernelspec": {
   "display_name": "Python 3",
   "language": "python",
   "name": "python3"
  },
  "language_info": {
   "codemirror_mode": {
    "name": "ipython",
    "version": 3
   },
   "file_extension": ".py",
   "mimetype": "text/x-python",
   "name": "python",
   "nbconvert_exporter": "python",
   "pygments_lexer": "ipython3",
   "version": "3.10.9"
  },
  "papermill": {
   "default_parameters": {},
   "duration": 195.872841,
   "end_time": "2023-06-27T11:56:26.230611",
   "environment_variables": {},
   "exception": null,
   "input_path": "__notebook__.ipynb",
   "output_path": "__notebook__.ipynb",
   "parameters": {},
   "start_time": "2023-06-27T11:53:10.357770",
   "version": "2.4.0"
  }
 },
 "nbformat": 4,
 "nbformat_minor": 5
}
